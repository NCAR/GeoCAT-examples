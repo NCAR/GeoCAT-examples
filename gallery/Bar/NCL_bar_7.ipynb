{
  "cells": [
    {
      "cell_type": "code",
      "execution_count": null,
      "metadata": {
        "collapsed": false
      },
      "outputs": [],
      "source": [
        "%matplotlib inline"
      ]
    },
    {
      "cell_type": "markdown",
      "metadata": {},
      "source": [
        "\n# NCL_bar_7.py\nThis script illustrates the following concepts:\n  - Drawing filled bars\n  - Filling the bars in a bar plot with different colors\n  - Setting the minimum/maximum value of the Y axis in a bar plot\n  - Adding text to a plot\n  - Rotating text 45 degrees\n  - Drawing a custom legend\n\nSee following URLs to see the reproduced NCL plot & script:\n    - Original NCL script: https://www.ncl.ucar.edu/Applications/Scripts/bar_7.ncl\n    - Original NCL plot: https://www.ncl.ucar.edu/Applications/Images/bar_7_1_lg.png and https://www.ncl.ucar.edu/Applications/Images/bar_7_2_lg.png\n"
      ]
    },
    {
      "cell_type": "markdown",
      "metadata": {},
      "source": [
        "Import packages:\n\n"
      ]
    },
    {
      "cell_type": "code",
      "execution_count": null,
      "metadata": {
        "collapsed": false
      },
      "outputs": [],
      "source": [
        "import numpy as np\nimport matplotlib.pyplot as plt\n\nfrom geocat.viz import util as gvutil"
      ]
    },
    {
      "cell_type": "markdown",
      "metadata": {},
      "source": [
        "Generate data:\n\n"
      ]
    },
    {
      "cell_type": "code",
      "execution_count": null,
      "metadata": {
        "collapsed": false
      },
      "outputs": [],
      "source": [
        "x = [1, 2, 3, 4, 5, 6, 7, 8]\ndata = [154900, 56600, 40000, 30200, 29700, 24400, 21700, 13900]\nlabels = [\n    'Lung', 'Colon/rectum', 'Breast', 'Prostate', 'Pancreas',\n    'Non-Hodgkin\\'s Lymphoma', 'Leukemias', 'Ovary'\n]"
      ]
    },
    {
      "cell_type": "markdown",
      "metadata": {},
      "source": [
        "Create the custom color list.\n\n"
      ]
    },
    {
      "cell_type": "code",
      "execution_count": null,
      "metadata": {
        "collapsed": false
      },
      "outputs": [],
      "source": [
        "color_list = [\n    'firebrick', 'red', 'orange', 'green', 'navy', 'blue', 'skyblue',\n    'slateblue'\n]"
      ]
    },
    {
      "cell_type": "markdown",
      "metadata": {},
      "source": [
        "Specify some plot settings to use in both plots:\n\n"
      ]
    },
    {
      "cell_type": "code",
      "execution_count": null,
      "metadata": {
        "collapsed": false
      },
      "outputs": [],
      "source": [
        "# Title settings\ntitle = 'Estimated Cancer Deaths for 2002'\ntitle_fontsize = 16\n\n# Axis Settings\nplot_y_max = 180_000"
      ]
    },
    {
      "cell_type": "markdown",
      "metadata": {},
      "source": [
        "Plot 1 (Bar chart):\n\n"
      ]
    },
    {
      "cell_type": "code",
      "execution_count": null,
      "metadata": {
        "collapsed": false
      },
      "outputs": [],
      "source": [
        "# Generate figure (set its size (width, height) in inches) and axes\nplt.figure(1, figsize=(6, 5))\nax = plt.gca()\n\n# Bar-plot the data\nplt.bar(x, data, color=color_list, edgecolor='black')\nplt.title(title, fontsize=title_fontsize, y=1.04)\n\n# Add a rotated label to each bar.\nfor k, label in enumerate(labels):\n    plt.text(x[k], data[k] + 2000, label, rotation=45)\n\n# Use geocat.viz.util convenience function to set axes limits & tick values without calling several matplotlib functions\ngvutil.set_axes_limits_and_ticks(ax,\n                                 ylim=(0, plot_y_max),\n                                 xticks=[],\n                                 yticks=np.linspace(0, plot_y_max, 7))\n\n# Use geocat.viz.util convenience function to add minor and major tick lines\ngvutil.add_major_minor_ticks(ax,\n                             x_minor_per_major=0,\n                             y_minor_per_major=3,\n                             labelsize=12)\n\n# Draw plot on the screen.\nplt.show()"
      ]
    },
    {
      "cell_type": "markdown",
      "metadata": {},
      "source": [
        "Plot 2 (Bar chart with a legend):\n\n"
      ]
    },
    {
      "cell_type": "code",
      "execution_count": null,
      "metadata": {
        "collapsed": false
      },
      "outputs": [],
      "source": [
        "# Generate figure (set its size (width, height) in inches) and axes\nplt.figure(2, figsize=(6, 5))\nax = plt.gca()\n\n# Bar-plot the data\nbar_handle = plt.bar(x, data, color=color_list, edgecolor='black')\n\n# Reverse the legend ordering to match NCL\nbars_reversed = bar_handle[::-1]\nlabels_reversed = labels[::-1]\n\n# Add the legend\nplt.legend(bars_reversed, labels_reversed)\n\n# Use geocat.viz.util convenience function to set axes limits & tick values without calling several matplotlib functions\ngvutil.set_axes_limits_and_ticks(ax,\n                                 ylim=(0, plot_y_max),\n                                 xticks=[],\n                                 yticks=np.linspace(0, plot_y_max, 7))\n\n# Use geocat.viz.util convenience function to add minor and major tick lines\ngvutil.add_major_minor_ticks(ax,\n                             x_minor_per_major=0,\n                             y_minor_per_major=3,\n                             labelsize=12)\n\n# Use geocat.viz.util convenience function to set titles and labels without calling several matplotlib functions\ngvutil.set_titles_and_labels(ax,\n                             maintitle=title,\n                             maintitlefontsize=title_fontsize,\n                             ylabel=\"Number of Deaths\")\n\n# Show the plot\nplt.tight_layout()\nplt.show()"
      ]
    }
  ],
  "metadata": {
    "kernelspec": {
      "display_name": "Python 3",
      "language": "python",
      "name": "python3"
    },
    "language_info": {
      "codemirror_mode": {
        "name": "ipython",
        "version": 3
      },
      "file_extension": ".py",
      "mimetype": "text/x-python",
      "name": "python",
      "nbconvert_exporter": "python",
      "pygments_lexer": "ipython3",
      "version": "3.7.9"
    }
  },
  "nbformat": 4,
  "nbformat_minor": 0
}