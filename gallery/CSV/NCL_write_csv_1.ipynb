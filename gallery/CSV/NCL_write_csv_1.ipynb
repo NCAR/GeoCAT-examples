{
  "cells": [
    {
      "cell_type": "code",
      "execution_count": null,
      "metadata": {
        "collapsed": false
      },
      "outputs": [],
      "source": [
        "%matplotlib inline"
      ]
    },
    {
      "cell_type": "markdown",
      "metadata": {},
      "source": [
        "\n# NCL_write_csv_1.py\nThis script illustrates the following concepts:\n   - Using python tools 'csv' and 'pandas' to write integers to a CSV file\n\nSee following URLs to see the reproduced NCL plot & script:\n    - Original NCL script: https://www.ncl.ucar.edu/Applications/Scripts/write_csv_1.ncl\n\nExpected format for output csv files is:\n    \n    34,67,56\n    \n    36,87,78\n    \n    31,56,88\n    \n    29,67,92\n    \n    54,71,68\n    \n    42,65,82\n    \n"
      ]
    },
    {
      "cell_type": "markdown",
      "metadata": {},
      "source": [
        "Import packages:\n\n"
      ]
    },
    {
      "cell_type": "code",
      "execution_count": null,
      "metadata": {
        "collapsed": false
      },
      "outputs": [],
      "source": [
        "import csv\nfrom itertools import zip_longest\nimport pandas as pd"
      ]
    },
    {
      "cell_type": "markdown",
      "metadata": {},
      "source": [
        "Create data in column format\n\n"
      ]
    },
    {
      "cell_type": "code",
      "execution_count": null,
      "metadata": {
        "collapsed": false
      },
      "outputs": [],
      "source": [
        "x1 = [34, 36, 31, 29, 54, 42]\nx2 = [67, 87, 56, 67, 71, 65]\nx3 = [56, 78, 88, 92, 68, 82]"
      ]
    },
    {
      "cell_type": "markdown",
      "metadata": {},
      "source": [
        "Create CSV file using 'csv'\n\n"
      ]
    },
    {
      "cell_type": "code",
      "execution_count": null,
      "metadata": {
        "collapsed": false
      },
      "outputs": [],
      "source": [
        "# Put data into one list so it can be manipulated together\ncol = [x1, x2, x3]\n\n# Transpose data lists so they are read column by column not row by row\nexport_cols = zip_longest(*col, fillvalue='')\n\n# Create a new CSV file and write data to it\nwith open('example1a.csv', mode='w') as myfile:\n    example_writer = csv.writer(myfile, delimiter=',')\n    example_writer.writerows(export_cols)"
      ]
    },
    {
      "cell_type": "markdown",
      "metadata": {},
      "source": [
        "Creat CSV file using 'pandas'\n\n"
      ]
    },
    {
      "cell_type": "code",
      "execution_count": null,
      "metadata": {
        "collapsed": false
      },
      "outputs": [],
      "source": [
        "# Create a data frame to contain all data\ndf = pd.DataFrame([x1, x2, x3])\n\n# Transpose data frame so that it will be read in column by column not row by row\ndf = df.T\n\n# Export data frame to csv file\n# setting 'header' and 'index' to False will remove a default crow and column\n# number label\ndf.to_csv('example1b.csv', header=False, index=False)"
      ]
    }
  ],
  "metadata": {
    "kernelspec": {
      "display_name": "Python 3",
      "language": "python",
      "name": "python3"
    },
    "language_info": {
      "codemirror_mode": {
        "name": "ipython",
        "version": 3
      },
      "file_extension": ".py",
      "mimetype": "text/x-python",
      "name": "python",
      "nbconvert_exporter": "python",
      "pygments_lexer": "ipython3",
      "version": "3.7.9"
    }
  },
  "nbformat": 4,
  "nbformat_minor": 0
}