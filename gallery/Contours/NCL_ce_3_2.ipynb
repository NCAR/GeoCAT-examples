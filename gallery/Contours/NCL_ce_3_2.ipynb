{
  "cells": [
    {
      "cell_type": "code",
      "execution_count": null,
      "metadata": {
        "collapsed": false
      },
      "outputs": [],
      "source": [
        "%matplotlib inline"
      ]
    },
    {
      "cell_type": "markdown",
      "metadata": {},
      "source": [
        "\n# NCL_ce_3_2.py\n\nThis script illustrates the following concepts:\n   - Drawing color-filled contours over a cylindrical equidistant map\n   - Selecting a different color map\n   - Changing the contour level spacing\n   - Turning off contour lines\n   - Comparing styles of map tickmarks labels\n   - Changing the stride of the colorbar labels\n   - Zooming in on a particular area on the map\n   - Turning off the addition of a longitude cyclic point\n\nSee following URLs to see the reproduced NCL plot & script:\n    - Original NCL script: https://www.ncl.ucar.edu/Applications/Scripts/ce_3.ncl\n    - Original NCL plot: https://www.ncl.ucar.edu/Applications/Images/ce_3_2_lg.png\n"
      ]
    },
    {
      "cell_type": "markdown",
      "metadata": {},
      "source": [
        "Import packages:\n\n"
      ]
    },
    {
      "cell_type": "code",
      "execution_count": null,
      "metadata": {
        "collapsed": false
      },
      "outputs": [],
      "source": [
        "import numpy as np\nimport xarray as xr\nimport cartopy.feature as cfeature\nimport cartopy.crs as ccrs\nimport matplotlib.pyplot as plt\n\nimport geocat.datafiles as gdf\nfrom geocat.viz import cmaps as gvcmaps\nfrom geocat.viz import util as gvutil"
      ]
    },
    {
      "cell_type": "markdown",
      "metadata": {},
      "source": [
        "Read in data:\n\n"
      ]
    },
    {
      "cell_type": "code",
      "execution_count": null,
      "metadata": {
        "collapsed": false
      },
      "outputs": [],
      "source": [
        "# Open a netCDF data file using xarray default engine and load the data into xarrays\nds = xr.open_dataset(gdf.get('netcdf_files/h_avg_Y0191_D000.00.nc'),\n                     decode_times=False)\n# Extract a slice of the data\nt = ds.T.isel(time=0, z_t=0).sel(lat_t=slice(-60, 30), lon_t=slice(30, 120))"
      ]
    },
    {
      "cell_type": "markdown",
      "metadata": {},
      "source": [
        "Plot:\n\n"
      ]
    },
    {
      "cell_type": "code",
      "execution_count": null,
      "metadata": {
        "collapsed": false
      },
      "outputs": [],
      "source": [
        "# Generate figure (set its size (width, height) in inches)\nfig = plt.figure(figsize=(7, 7))\n\n# Generate axes, using Cartopy, drawing coastlines, and adding features\nprojection = ccrs.PlateCarree()\nax = plt.axes(projection=projection)\nax.coastlines(linewidths=0.5)\nax.add_feature(cfeature.LAND, facecolor='lightgray')\n\n# Import an NCL colormap\nnewcmp = gvcmaps.BlAqGrYeOrRe\n\n# Contourf-plot data\nheatmap = t.plot.contourf(ax=ax,\n                          transform=projection,\n                          levels=40,\n                          vmin=0,\n                          vmax=32,\n                          cmap=newcmp,\n                          add_colorbar=False)\n\n# Add colorbar\ncbar = plt.colorbar(heatmap, ticks=np.arange(0, 32, 2))\ncbar.ax.set_yticklabels([str(i) for i in np.arange(0, 32, 2)])\n\n# Adjust tick label size\nax.tick_params(labelsize=12)\n\n# Use geocat.viz.util convenience function to set axes parameters without calling several matplotlib functions\n# Set axes limits, and tick values\ngvutil.set_axes_limits_and_ticks(ax,\n                                 xlim=(30, 120),\n                                 ylim=(-60, 30),\n                                 xticks=np.linspace(-180, 180, 25),\n                                 yticks=np.linspace(-90, 90, 13))\n\n# Use geocat.viz.util convenience function to make plots look like NCL plots by using latitude, longitude tick labels\ngvutil.add_lat_lon_ticklabels(ax)\n\n# Use geocat.viz.util convenience function to set titles and labels without calling several matplotlib functions\ngvutil.set_titles_and_labels(ax,\n                             maintitle=\"15-degree major but no minor ticks\",\n                             maintitlefontsize=16,\n                             lefttitle=\"Potential Temperature\",\n                             lefttitlefontsize=14,\n                             righttitle=\"Celsius\",\n                             righttitlefontsize=14,\n                             xlabel=\"\",\n                             ylabel=\"\")\n\n# Show the plot\nplt.show()"
      ]
    }
  ],
  "metadata": {
    "kernelspec": {
      "display_name": "Python 3",
      "language": "python",
      "name": "python3"
    },
    "language_info": {
      "codemirror_mode": {
        "name": "ipython",
        "version": 3
      },
      "file_extension": ".py",
      "mimetype": "text/x-python",
      "name": "python",
      "nbconvert_exporter": "python",
      "pygments_lexer": "ipython3",
      "version": "3.7.9"
    }
  },
  "nbformat": 4,
  "nbformat_minor": 0
}