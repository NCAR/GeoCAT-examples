{
  "cells": [
    {
      "cell_type": "code",
      "execution_count": null,
      "metadata": {
        "collapsed": false
      },
      "outputs": [],
      "source": [
        "%matplotlib inline"
      ]
    },
    {
      "cell_type": "markdown",
      "metadata": {},
      "source": [
        "\n# NCL_conLev_3.py\nThis script illustrates the following concepts:\n   - Explicitly setting contour levels\n   - Making the labelbar be vertical\n   - Adding text to a plot\n   - Adding units attributes to lat/lon arrays\n   - Using cnFillPalette to assign a color palette to contours\n\nSee following URLs to see the reproduced NCL plot & script:\n    - Original NCL script: https://www.ncl.ucar.edu/Applications/Scripts/conLev_3.ncl\n    - Original NCL plot: https://www.ncl.ucar.edu/Applications/Images/conLev_3_lg.png\n\nNote:\n    A different colormap was used in this example than in the NCL example\n    because rainbow colormaps do not translate well to black and white formats,\n    are not accessible for individuals affected by color blindness, and\n    vary widely in how they are percieved by different people. See this\n    `example <https://geocat-examples.readthedocs.io/en/latest/gallery/Colors/CB_Temperature.html#sphx-glr-gallery-colors-cb-temperature-py>`_\n    for more information on choosing colormaps.\n"
      ]
    },
    {
      "cell_type": "markdown",
      "metadata": {},
      "source": [
        "Import packages:\n\n"
      ]
    },
    {
      "cell_type": "code",
      "execution_count": null,
      "metadata": {
        "collapsed": false
      },
      "outputs": [],
      "source": [
        "import numpy as np\nimport xarray as xr\nimport matplotlib.pyplot as plt\nfrom cartopy.mpl.gridliner import LongitudeFormatter, LatitudeFormatter\n\nimport geocat.datafiles as gdf\nfrom geocat.viz import util as gvutil"
      ]
    },
    {
      "cell_type": "markdown",
      "metadata": {},
      "source": [
        "Read in data:\n\n"
      ]
    },
    {
      "cell_type": "code",
      "execution_count": null,
      "metadata": {
        "collapsed": false
      },
      "outputs": [],
      "source": [
        "# Open a netCDF data file using xarray default engine and load the data into xarrays\nds = xr.open_dataset(gdf.get(\"netcdf_files/Tstorm.cdf\"))\n\n# Extract temperature data at the first timestep\nT = ds.t.isel(timestep=0, drop=True)"
      ]
    },
    {
      "cell_type": "markdown",
      "metadata": {},
      "source": [
        "Plot:\n\n"
      ]
    },
    {
      "cell_type": "code",
      "execution_count": null,
      "metadata": {
        "collapsed": false
      },
      "outputs": [],
      "source": [
        "# Generate figure (set its size (width, height) in inches)\nplt.figure(figsize=(8, 8))\nax = plt.axes()\n\n# Import an NCL colormap\nnewcmp = 'plasma'\n\n# Contourf-plot data (for filled contours)\nnum_lev = 16  # Number of levels\ntemp = T.plot.contourf(ax=ax, vmin=244, vmax=308, levels=np.linspace(244, 308, num_lev + 1),\n                       cmap=newcmp, add_colorbar=False, add_labels=False)\n\n# Contour-plot data (for line contours)\nT.plot.contour(ax=ax, vmin=244, vmax=308, levels=np.linspace(244, 308, num_lev + 1),\n               colors='black', linewidths=0.5, add_labels=False)\n\n# Add horizontal colorbar\ncbar_ticks = np.arange(248, 308, 4)\ncbar = plt.colorbar(temp, orientation='vertical', pad=0.005)\ncbar.ax.tick_params(labelsize=11)\ncbar.set_ticks(cbar_ticks)\n\n# Use geocat.viz.util convenience function to set axes tick values\ngvutil.set_axes_limits_and_ticks(ax, xlim=(-140, -50), ylim=(20, 60),\n                                 xticks=[-135, -90],\n                                 yticks=np.arange(20, 70, 10))\n\n# Use geocat.viz.util convenience function to make plots look like NCL plots by using latitude, longitude tick labels\ngvutil.add_lat_lon_ticklabels(ax)\n\n# Remove the degree symbol from tick labels\nax.yaxis.set_major_formatter(LatitudeFormatter(degree_symbol=''))\nax.xaxis.set_major_formatter(LongitudeFormatter(degree_symbol=''))\n\n# Use geocat.viz.util convenience function to add minor and major tick lines\ngvutil.add_major_minor_ticks(ax, x_minor_per_major=3, y_minor_per_major=5,\n                             labelsize=12)\n\n# Remove ticks on right side\nax.tick_params(which='both', right=False)\n\n# Use geocat.viz.util convenience function to add title\ngvutil.set_titles_and_labels(ax, maintitle=\"Explanation of Python contour levels\")\n\n# Create labels by colorbar\nsize = 8\ny = 1 / num_lev / 2  # Offset from x axis in axes coordinates\nax.text(0.949, y, 'T < 248', fontsize=size, horizontalalignment='center',\n        verticalalignment='center', transform=ax.transAxes,\n        bbox=dict(boxstyle='square, pad=0.25',\n                  facecolor='papayawhip',\n                  edgecolor='papayawhip'))\ntext = '{} <= T < {}'\nfor i in range(0, 14):\n    y = y + 1 / num_lev  # Vertical spacing between the labels\n    ax.text(0.904, y, text.format(cbar_ticks[i], cbar_ticks[i + 1]),\n            fontsize=size, horizontalalignment='center',\n            verticalalignment='center', transform=ax.transAxes,\n            bbox=dict(boxstyle='square, pad=0.25',\n                      facecolor='papayawhip',\n                      edgecolor='papayawhip'))\n\ny = y + 1 / num_lev  # Increment height once more for top label\nax.text(0.94, y, 'T >= 304', fontsize=size, horizontalalignment='center',\n        verticalalignment='center', transform=ax.transAxes,\n        bbox=dict(boxstyle='square, pad=0.25',\n                  facecolor='papayawhip',\n                  edgecolor='papayawhip'))    \n\n# Show the plot\nplt.show()"
      ]
    }
  ],
  "metadata": {
    "kernelspec": {
      "display_name": "Python 3",
      "language": "python",
      "name": "python3"
    },
    "language_info": {
      "codemirror_mode": {
        "name": "ipython",
        "version": 3
      },
      "file_extension": ".py",
      "mimetype": "text/x-python",
      "name": "python",
      "nbconvert_exporter": "python",
      "pygments_lexer": "ipython3",
      "version": "3.7.9"
    }
  },
  "nbformat": 4,
  "nbformat_minor": 0
}