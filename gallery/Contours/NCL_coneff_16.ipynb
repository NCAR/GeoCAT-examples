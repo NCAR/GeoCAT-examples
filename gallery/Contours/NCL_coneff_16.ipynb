{
  "cells": [
    {
      "cell_type": "code",
      "execution_count": null,
      "metadata": {
        "collapsed": false
      },
      "outputs": [],
      "source": [
        "%matplotlib inline"
      ]
    },
    {
      "cell_type": "markdown",
      "metadata": {},
      "source": [
        "\n# NCL_coneff_16.py\nThis script illustrates the following concepts:\n   - Showing features of the new color display model\n   - Using a NCL colormap with levels to assign a color palette to contours\n   - Drawing partially transparent filled contours\n\nSee following URLs to see the reproduced NCL plot & script:\n    - Original NCL script: https://www.ncl.ucar.edu/Applications/Scripts/coneff_16.ncl\n    - Original NCL plot: https://www.ncl.ucar.edu/Applications/Images/coneff_16_1_lg.png\n"
      ]
    },
    {
      "cell_type": "markdown",
      "metadata": {},
      "source": [
        "Import packages:\n\n"
      ]
    },
    {
      "cell_type": "code",
      "execution_count": null,
      "metadata": {
        "collapsed": false
      },
      "outputs": [],
      "source": [
        "import numpy as np\nimport xarray as xr\nimport cartopy.crs as ccrs\n\nimport matplotlib.pyplot as plt\n\nimport geocat.datafiles as gdf\nfrom geocat.viz import cmaps as gvcmaps\nfrom geocat.viz import util as gvutil"
      ]
    },
    {
      "cell_type": "markdown",
      "metadata": {},
      "source": [
        "Read in data:\n\n"
      ]
    },
    {
      "cell_type": "code",
      "execution_count": null,
      "metadata": {
        "collapsed": false
      },
      "outputs": [],
      "source": [
        "# Open a netCDF data file using xarray default engine and load the data into xarrays\nds = xr.open_dataset(gdf.get('netcdf_files/uv300.nc'))\nU = ds.U[1, :, :]"
      ]
    },
    {
      "cell_type": "markdown",
      "metadata": {},
      "source": [
        "Plot:\n\n"
      ]
    },
    {
      "cell_type": "code",
      "execution_count": null,
      "metadata": {
        "collapsed": false
      },
      "outputs": [],
      "source": [
        "# Generate figure (set its size (width, height) in inches)\nplt.figure(figsize=(14, 7))\n\n# Generate axes, using Cartopy\nprojection = ccrs.PlateCarree()\nax = plt.axes(projection=projection)\n\n# Use global map and draw coastlines\nax.set_global()\nax.coastlines()\n\n# Import an NCL colormap\nnewcmp = gvcmaps.BlueYellowRed\n\n# Contourf-plot data (for filled contours)\n# Note, min-max contour levels are hard-coded. contourf's automatic contour value selector produces fractional values.\np = U.plot.contourf(ax=ax,\n                    vmin=-16.0,\n                    vmax=44,\n                    levels=16,\n                    cmap=newcmp,\n                    add_colorbar=False,\n                    transform=projection,\n                    extend='neither')\n\n# Add horizontal colorbar\ncbar = plt.colorbar(p, orientation='horizontal', shrink=0.5)\ncbar.ax.tick_params(labelsize=14)\ncbar.set_ticks(np.linspace(-12, 40, 14))\n\n# Use geocat.viz.util convenience function to set axes tick values\ngvutil.set_axes_limits_and_ticks(ax,\n                                 xticks=np.linspace(-180, 180, 13),\n                                 yticks=np.linspace(-90, 90, 7))\n\n# Use geocat.viz.util convenience function to make plots look like NCL plots by using latitude, longitude tick labels\ngvutil.add_lat_lon_ticklabels(ax)\n\n# Use geocat.viz.util convenience function to add minor and major tick lines\ngvutil.add_major_minor_ticks(ax, labelsize=12)\n\n# Use geocat.viz.util convenience function to add titles to left and right of the plot axis.\ngvutil.set_titles_and_labels(ax,\n                             maintitle=\"Color contours mask filled land\",\n                             lefttitle=U.long_name,\n                             lefttitlefontsize=16,\n                             righttitle=U.units,\n                             righttitlefontsize=16,\n                             xlabel=\"\",\n                             ylabel=\"\")\n\n# Show the plot\nplt.show()"
      ]
    }
  ],
  "metadata": {
    "kernelspec": {
      "display_name": "Python 3",
      "language": "python",
      "name": "python3"
    },
    "language_info": {
      "codemirror_mode": {
        "name": "ipython",
        "version": 3
      },
      "file_extension": ".py",
      "mimetype": "text/x-python",
      "name": "python",
      "nbconvert_exporter": "python",
      "pygments_lexer": "ipython3",
      "version": "3.7.9"
    }
  },
  "nbformat": 4,
  "nbformat_minor": 0
}