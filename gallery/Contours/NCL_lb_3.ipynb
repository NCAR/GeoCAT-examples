{
  "cells": [
    {
      "cell_type": "code",
      "execution_count": null,
      "metadata": {
        "collapsed": false
      },
      "outputs": [],
      "source": [
        "%matplotlib inline"
      ]
    },
    {
      "cell_type": "markdown",
      "metadata": {},
      "source": [
        "\n# NCL_lb_3.py\nThis script illustrates the following concepts:\n   - Drawing a horizontal colorbar\n   - Changing the colorbar labels\n   - Changing the angle of colorbar labels\n   - Changing the font size of the colorbar's labels\n   - Adding a title to a colorbar\n   - Adjusting colorbar position relavtive to  plot axes\n\nSee following URLs to see the reproduced NCL plot & script:\n    - Original NCL script: https://www.ncl.ucar.edu/Applications/Scripts/lb_3.ncl\n    - Original NCL plot: https://www.ncl.ucar.edu/Applications/Images/lb_3_lg.png\n"
      ]
    },
    {
      "cell_type": "markdown",
      "metadata": {},
      "source": [
        "Import packages:\n\n"
      ]
    },
    {
      "cell_type": "code",
      "execution_count": null,
      "metadata": {
        "collapsed": false
      },
      "outputs": [],
      "source": [
        "import numpy as np\nimport xarray as xr\nimport cartopy.crs as ccrs\nfrom cartopy.mpl.gridliner import LongitudeFormatter, LatitudeFormatter\nimport matplotlib.pyplot as plt\n\nimport geocat.datafiles as gdf\nfrom geocat.viz import cmaps as gvcmaps\nfrom geocat.viz import util as gvutil"
      ]
    },
    {
      "cell_type": "markdown",
      "metadata": {},
      "source": [
        "Read in data:\n\n"
      ]
    },
    {
      "cell_type": "code",
      "execution_count": null,
      "metadata": {
        "collapsed": false
      },
      "outputs": [],
      "source": [
        "# Open a netCDF data file using xarray default engine and load the data into xarrays\nds = xr.open_dataset(gdf.get(\"netcdf_files/atmos.nc\"), decode_times=False)\n\n# Extract slice of data\nV = ds.V.isel(time=0, lev=3)\n\n# Fix the artifact of not-shown-data around 0 and 360-degree longitudes\nV = gvutil.xr_add_cyclic_longitudes(V, \"lon\")"
      ]
    },
    {
      "cell_type": "markdown",
      "metadata": {},
      "source": [
        "Plot:\n\n"
      ]
    },
    {
      "cell_type": "code",
      "execution_count": null,
      "metadata": {
        "collapsed": false
      },
      "outputs": [],
      "source": [
        "# Generate figure (set its size (width, height) in inches)\nfig = plt.figure(figsize=(10, 6))\n\n# Generate axes using Cartopy and draw coastlines\nax = plt.axes(projection=ccrs.PlateCarree())\nax.coastlines(linewidths=0.5, alpha=0.6)\n\n# Use geocat.viz.util convenience function to set axes limits & tick values\ngvutil.set_axes_limits_and_ticks(ax,\n                                 xlim=(-180, 180),\n                                 ylim=(-90, 90),\n                                 xticks=np.linspace(-180, 180, 13),\n                                 yticks=np.linspace(-90, 90, 7))\n\n# Use geocat.viz.util convenience function to add minor and major tick lines\ngvutil.add_major_minor_ticks(ax, labelsize=10)\n\n# Use geocat.viz.util convenience function to make latitude, longitude tick labels\ngvutil.add_lat_lon_ticklabels(ax)\n# Remove degree symbol from tick labels\nax.yaxis.set_major_formatter(LatitudeFormatter(degree_symbol=''))\nax.xaxis.set_major_formatter(LongitudeFormatter(degree_symbol=''))\n\n# Use geocat.viz.util convenience function to add titles\ngvutil.set_titles_and_labels(ax,\n                             lefttitle=V.long_name,\n                             righttitle=V.units,\n                             lefttitlefontsize=12,\n                             righttitlefontsize=12)\n\n# Import an NCL colormap\ncmap = gvcmaps.wgne15\n\n# Specify which contour levels to draw\ncontour_lev = np.arange(-20, 28, 4)\n# Plot filled contour\ncontour = V.plot.contourf(ax=ax,\n                          transform=ccrs.PlateCarree(),\n                          cmap=cmap,\n                          levels=contour_lev,\n                          add_colorbar=False,\n                          add_labels=False)\n# Plot line contour\nV.plot.contour(ax=ax,\n               transform=ccrs.PlateCarree(),\n               colors='black',\n               linewidths=0.5,\n               linestyles='solid',\n               levels=contour_lev,\n               add_colorbar=False,\n               add_labels=False)\n\n# Create horizontal colorbar\n# By changing the kwarg `pad`, the colorbar can be moved closer to or farther away from\n# the axis parallel to it.\n# `pad` defaults to 0.15 for horizontal colorbars\n# `extendrect` and `extendfrac` format the ends of the colorbar, default is\n# pointed ends to show there are values beyond the given contour levels\ncbar = plt.colorbar(contour,\n                    ax=ax,\n                    orientation='horizontal',\n                    shrink=0.75,\n                    pad=0.11,\n                    extendrect=True,\n                    extendfrac='auto')\n# Make colorbar tick labels larger\ncbar.ax.tick_params(labelsize=14)\n# Rotate colorbar tick labels\ncbar.ax.set_xticklabels(cbar.ax.get_xticklabels(), rotation=45)\n# Format colorbar title, this will make the title appear above the colorbar\ncbar.ax.set_title('Default position for color bar title', fontsize=10)\nplt.show()"
      ]
    }
  ],
  "metadata": {
    "kernelspec": {
      "display_name": "Python 3",
      "language": "python",
      "name": "python3"
    },
    "language_info": {
      "codemirror_mode": {
        "name": "ipython",
        "version": 3
      },
      "file_extension": ".py",
      "mimetype": "text/x-python",
      "name": "python",
      "nbconvert_exporter": "python",
      "pygments_lexer": "ipython3",
      "version": "3.7.9"
    }
  },
  "nbformat": 4,
  "nbformat_minor": 0
}