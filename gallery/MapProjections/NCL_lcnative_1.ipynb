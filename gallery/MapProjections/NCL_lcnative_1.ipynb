{
  "cells": [
    {
      "cell_type": "code",
      "execution_count": null,
      "metadata": {
        "collapsed": false
      },
      "outputs": [],
      "source": [
        "%matplotlib inline"
      ]
    },
    {
      "cell_type": "markdown",
      "metadata": {},
      "source": [
        "\n# NCL_lcnative_1.py\nThis script illustrates the following concepts:\n    - Drawing contours over a map using a native lat,lon grid\n    - Drawing filled contours over a Lambert Conformal map\n    - Zooming in on a particular area on a Lambert Conformal map\n    - Subsetting a color map\n    - Using all three Cartopy Lambert projections to find the best fit for visualization\n    - Implementing best practices for choosing contour color scheme. The original NCL \n      version uses a rainbow color map which can create problems for individuals\n      impacted by color blindness and is not black and white printer friendly. \n      To overcome this, we used the \"Blues_r\" color scheme from Matplotlib.\n      More information on best practices can be found `here <https://geocat-examples.readthedocs.io/en/latest/gallery/Colors/CB_Rain.html#sphx-glr-gallery-colors-cb-rain-py>`_.\n     \n    \nSee following URLs to see the reproduced NCL plot & script:\n    - Original NCL script: https://www.ncl.ucar.edu/Applications/Scripts/lcnative_1.ncl\n    - Original NCL plot: https://www.ncl.ucar.edu/Applications/Images/lcnative_1_lg.png\n"
      ]
    },
    {
      "cell_type": "markdown",
      "metadata": {},
      "source": [
        "Import packages:\n\n"
      ]
    },
    {
      "cell_type": "code",
      "execution_count": null,
      "metadata": {
        "collapsed": false
      },
      "outputs": [],
      "source": [
        "import numpy as np\nimport xarray as xr\nimport cartopy.crs as ccrs\nimport matplotlib.pyplot as plt\nimport matplotlib.ticker as mticker\n\nimport geocat.datafiles as gdf"
      ]
    },
    {
      "cell_type": "markdown",
      "metadata": {},
      "source": [
        "Read in data:\n\n"
      ]
    },
    {
      "cell_type": "code",
      "execution_count": null,
      "metadata": {
        "collapsed": false
      },
      "outputs": [],
      "source": [
        "# Open a netCDF data file using xarray default engine and load the data into xarrays\nds = xr.open_dataset(gdf.get(\"netcdf_files/pre.8912.mon.nc\"),\n                     decode_times=False)\n\n# Extract a slice of the data\nt = ds.pre.isel(time=0)"
      ]
    },
    {
      "cell_type": "markdown",
      "metadata": {},
      "source": [
        "Plot:\n\n"
      ]
    },
    {
      "cell_type": "code",
      "execution_count": null,
      "metadata": {
        "collapsed": false
      },
      "outputs": [],
      "source": [
        "plt.figure(figsize=(14, 14))\n\n\ndef Plot(row, col, pos, proj, title):\n    '''\n    Args:\n        \n        row (:class: 'int'): \n            number of rows necessary for subplotting of visualizations\n        col (:class: 'int'): \n            number of columns necessary for subplotting \n        pos (:class: 'int'): \n            position of visualization in m x n subplot\n        proj (:class: 'cartopy.crs'): \n            which projection to visualize\n        title (:class: 'str'): \n            center title of respective visualization\n    '''\n    # Generate axes using Cartopy and draw coastlines\n    ax = plt.subplot(row, col, pos, projection=proj)\n    ax.set_extent((28, 57, 20, 47), crs=ccrs.PlateCarree())\n    ax.coastlines(linewidth=0.5)\n\n    # Use ax \"gridlines\" function to draw lat/lon markers on projections\n    gl = ax.gridlines(draw_labels=True,\n                      dms=False,\n                      x_inline=False,\n                      y_inline=False)\n    gl.top_labels = True\n    gl.right_labels = True\n    gl.xlines = False\n    gl.ylines = False\n    gl.xlocator = mticker.FixedLocator([30, 35, 40, 45, 50, 55])\n    gl.ylocator = mticker.FixedLocator([20, 25, 30, 35, 40, 45])\n    gl.xlabel_style = {'rotation': 0}\n    gl.ylabel_style = {'rotation': 0}\n    '''\n    When using certain types of projections in Cartopy, you may find that there\n    is not a direct 1-to-1 projection similarity. When looking at the three Lambert\n    projections offered, you will notice the closest match to the NCL projection\n    is actually the Lambert Cylindrical projection. This is due to NCL having certain\n    \"smoothing\" and \"flattening\" options for the Lambert Conformal projection not seen \n    in the Cartopy version. By using Lambert Cylindrical over Lambert Conformal in Python,\n    you will be able to create the \"rectangular\" style of coordinates not classically \n    represented by a Lambert Conformal map. Additionally, Cartopy does not currently support \n    adding tick marks to a projection like NCL, this is why these Python projections do not \n    have this feature. The GeoCAT Team is actively adding to the list of convenience functions\n    supported and hopes to add this functionality one day.\n    '''\n\n    # Plot data and create colorbar\n    prec = t.plot.contourf(ax=ax, \n                           cmap=\"Blues_r\", \n                           transform=ccrs.PlateCarree(), \n                           levels = 14, \n                           add_colorbar=False)\n    \n    cbar_ticks = np.arange(0, 240, 20)\n    cbar = plt.colorbar(prec, \n                        orientation='horizontal', \n                        pad=0.075, \n                        shrink=0.8,\n                        ticks=cbar_ticks)\n    \n    cbar.ax.tick_params(labelsize=10)\n    plt.title(title, loc='center', y=1.17, size=15)\n    plt.title(t.units, loc='right', y=1.08, size=14)\n    plt.title(\"precipitation\", loc='left', y=1.08, size=14)\n\n\nPlot(\n    2, 2, 1,\n    ccrs.LambertConformal(central_longitude=45,\n                          standard_parallels=(36, 55),\n                          globe=ccrs.Globe()), \"Lambert Conformal\")\nPlot(2, 2, 2, ccrs.LambertCylindrical(central_longitude=45),\n     \"Lambert Cylindrical\")\nPlot(2, 2, 3, ccrs.LambertAzimuthalEqualArea(central_longitude=45),\n     \"Lambert Azimuthal\")"
      ]
    }
  ],
  "metadata": {
    "kernelspec": {
      "display_name": "Python 3",
      "language": "python",
      "name": "python3"
    },
    "language_info": {
      "codemirror_mode": {
        "name": "ipython",
        "version": 3
      },
      "file_extension": ".py",
      "mimetype": "text/x-python",
      "name": "python",
      "nbconvert_exporter": "python",
      "pygments_lexer": "ipython3",
      "version": "3.7.9"
    }
  },
  "nbformat": 4,
  "nbformat_minor": 0
}