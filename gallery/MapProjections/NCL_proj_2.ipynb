{
  "cells": [
    {
      "cell_type": "code",
      "execution_count": null,
      "metadata": {
        "collapsed": false
      },
      "outputs": [],
      "source": [
        "%matplotlib inline"
      ]
    },
    {
      "cell_type": "markdown",
      "metadata": {},
      "source": [
        "\n# NCL_proj_2.py\n\nThis script illustrates the following concepts:\n   - Drawing filled contours over a Mercator map\n   - Setting the spacing for latitude/longitude grid lines\n   - Turning off the map perimeter (boundary)\n   - Making the plot larger using viewport resources\n   - Turning off map fill\n   - Spanning part of a color map for contour fill\n   - Using 'inferno' color scheme instead of 'rainbow' to follow best practices for visualizations \n\nSee following URLs to see the reproduced NCL plot & script:\n    - Original NCL script: https://www.ncl.ucar.edu/Applications/Scripts/proj_2.ncl\n    - Original NCL plot: https://www.ncl.ucar.edu/Applications/Images/proj_2_lg.png\n"
      ]
    },
    {
      "cell_type": "markdown",
      "metadata": {},
      "source": [
        "Import packages:\n\n"
      ]
    },
    {
      "cell_type": "code",
      "execution_count": null,
      "metadata": {
        "collapsed": false
      },
      "outputs": [],
      "source": [
        "import numpy as np\nimport xarray as xr\nimport cartopy.crs as ccrs\nimport matplotlib.pyplot as plt\nimport matplotlib.ticker as mticker\nimport geocat.datafiles as gdf\nfrom geocat.viz import util as gvutil"
      ]
    },
    {
      "cell_type": "markdown",
      "metadata": {},
      "source": [
        "Read in data:\n\n"
      ]
    },
    {
      "cell_type": "code",
      "execution_count": null,
      "metadata": {
        "collapsed": false
      },
      "outputs": [],
      "source": [
        "# Open a netCDF data file using xarray default engine and load the data into xarrays\nds = xr.open_dataset(gdf.get(\"netcdf_files/atmos.nc\"), decode_times=False)\nt = ds.TS.isel(time=0)"
      ]
    },
    {
      "cell_type": "markdown",
      "metadata": {},
      "source": [
        "Fix the artifact of not-shown-data around 0 and 360-degree longitudes\n\n"
      ]
    },
    {
      "cell_type": "code",
      "execution_count": null,
      "metadata": {
        "collapsed": false
      },
      "outputs": [],
      "source": [
        "wrap_t = gvutil.xr_add_cyclic_longitudes(t, \"lon\")"
      ]
    },
    {
      "cell_type": "markdown",
      "metadata": {},
      "source": [
        "Plot:\n\n"
      ]
    },
    {
      "cell_type": "code",
      "execution_count": null,
      "metadata": {
        "collapsed": false
      },
      "outputs": [],
      "source": [
        "# Generate figure (set its size (width, height) in inches)\nfig = plt.figure(figsize=(10, 10))\n\n# Generate axes using Cartopy and draw coastlines\nax = plt.axes(projection=ccrs.Mercator(min_latitude=-84.5))\nax.coastlines(linewidths=0.5)\n\n# Set extent to include latitudes from -90 to 89 and longitudes from -180\n# to 180\nax.set_extent([180, -180, -90, 89], ccrs.PlateCarree())\n\n# Draw gridlines\ngl = ax.gridlines(crs=ccrs.PlateCarree(), linewidth=1, color='black', alpha=0.5)\n\n# Manipulate latitude and longitude gridline numbers and spacing\ngl.ylocator = mticker.FixedLocator(np.arange(-84.5, 91, 20))\ngl.xlocator = mticker.FixedLocator(np.arange(-180, 181, 20))\n\n# Contourf-plot data (for filled contours)\nwrap_t.plot.contourf(ax=ax,\n                     transform=ccrs.PlateCarree(),\n                     levels=12,\n                     cmap='inferno',\n                     add_colorbar=False)\n\n# Contour-plot data (for borderlines)\nwrap_t.plot.contour(ax=ax,\n                    transform=ccrs.PlateCarree(),\n                    levels=12,\n                    linewidths=0.5,\n                    cmap='black')\n\n# Use geocat.viz.util convenience function to add titles to left and right\n# of the plot axis.\ngvutil.set_titles_and_labels(ax,\n                             maintitle=\"Example of Mercator Projection\",\n                             lefttitle=\"Surface Temperature\",\n                             righttitle=\"K\")\n\n# Show the plot\nplt.show()"
      ]
    }
  ],
  "metadata": {
    "kernelspec": {
      "display_name": "Python 3",
      "language": "python",
      "name": "python3"
    },
    "language_info": {
      "codemirror_mode": {
        "name": "ipython",
        "version": 3
      },
      "file_extension": ".py",
      "mimetype": "text/x-python",
      "name": "python",
      "nbconvert_exporter": "python",
      "pygments_lexer": "ipython3",
      "version": "3.7.9"
    }
  },
  "nbformat": 4,
  "nbformat_minor": 0
}