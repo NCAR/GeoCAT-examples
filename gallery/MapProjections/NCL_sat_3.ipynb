{
  "cells": [
    {
      "cell_type": "code",
      "execution_count": null,
      "metadata": {
        "collapsed": false
      },
      "outputs": [],
      "source": [
        "%matplotlib inline"
      ]
    },
    {
      "cell_type": "markdown",
      "metadata": {},
      "source": [
        "\n# NCL_sat_3.py\n\nThis script illustrates the following concepts:\n    - zooming into an orthographic projection\n    - plotting filled contour data on an orthographic map\n    - plotting lat/lon tick marks on an orthographic map\n\nSee following URLs to see the reproduced NCL plot & script:\n    - Original NCL script: https://www.ncl.ucar.edu/Applications/Scripts/sat_3.ncl\n    - Original NCL plot: https://www.ncl.ucar.edu/Applications/Images/sat_3_lg.png\n"
      ]
    },
    {
      "cell_type": "markdown",
      "metadata": {},
      "source": [
        "Import packages:\n\n"
      ]
    },
    {
      "cell_type": "code",
      "execution_count": null,
      "metadata": {
        "collapsed": false
      },
      "outputs": [],
      "source": [
        "import matplotlib.pyplot as plt\nimport cartopy.crs as ccrs\nimport cartopy.feature as cfeature\nimport xarray as xr\nimport numpy as np\nimport matplotlib.ticker as mticker\n\nimport geocat.datafiles as gdf\n\nfrom geocat.viz import util as gvutil"
      ]
    },
    {
      "cell_type": "markdown",
      "metadata": {},
      "source": [
        "Define a helper function for plotting lat/lon ticks on an orthographic plane\n\n"
      ]
    },
    {
      "cell_type": "code",
      "execution_count": null,
      "metadata": {
        "collapsed": false
      },
      "outputs": [],
      "source": [
        "def plotOrthoTicks(coords, loc):\n\n    if loc == 'zero':\n        for lon, lat in coords:\n            ax.text(lon,\n                    lat,\n                    '{0}\\N{DEGREE SIGN}'.format(lon),\n                    va='bottom',\n                    ha='center',\n                    transform=ccrs.PlateCarree())\n    if loc == 'left':\n        for lon, lat in coords:\n            ax.text(lon,\n                    lat,\n                    '{0}\\N{DEGREE SIGN} N '.format(lat),\n                    va='center',\n                    ha='right',\n                    transform=ccrs.PlateCarree())\n\n    if loc == 'right':\n        for lon, lat in coords:\n            ax.text(lon,\n                    lat,\n                    '{0}\\N{DEGREE SIGN} N '.format(lat),\n                    va='center',\n                    ha='left',\n                    transform=ccrs.PlateCarree())\n\n    if loc == 'top':\n        for lon, lat in coords:\n            ax.text(lon,\n                    lat,\n                    '{0}\\N{DEGREE SIGN} W '.format(-lon),\n                    va='bottom',\n                    ha='center',\n                    transform=ccrs.PlateCarree())\n\n    if loc == 'bottom':\n        for lon, lat in coords:\n            ax.text(lon,\n                    lat,\n                    '{0}\\N{DEGREE SIGN} W '.format(-lon),\n                    va='top',\n                    ha='center',\n                    transform=ccrs.PlateCarree())"
      ]
    },
    {
      "cell_type": "markdown",
      "metadata": {},
      "source": [
        "Read in data:\n\n"
      ]
    },
    {
      "cell_type": "code",
      "execution_count": null,
      "metadata": {
        "collapsed": false
      },
      "outputs": [],
      "source": [
        "# Open a netCDF data file using xarray default engine and\n# load the data into xarrays\nds = xr.open_dataset(gdf.get('netcdf_files/h_avg_Y0191_D000.00.nc'),\n                     decode_times=False)\n\n# Extract a slice of the data\nt = ds.T.isel(time=0, z_t=0)"
      ]
    },
    {
      "cell_type": "markdown",
      "metadata": {},
      "source": [
        "Plot:\n\n"
      ]
    },
    {
      "cell_type": "code",
      "execution_count": null,
      "metadata": {
        "collapsed": false
      },
      "outputs": [],
      "source": [
        "plt.figure(figsize=(8, 8))\n\n# Create an axis with an orthographic projection\nax = plt.axes(projection=ccrs.Orthographic(central_longitude=-35,\n                                           central_latitude=60),\n              anchor='C')\n\n# Set extent of map\nax.set_extent((-80, -10, 30, 80), crs=ccrs.PlateCarree())\n\n# Add natural feature to map\nax.coastlines(resolution='110m')\nax.add_feature(cfeature.LAND, facecolor='lightgray', zorder=3)\nax.add_feature(cfeature.COASTLINE, linewidth=0.2, zorder=3)\nax.add_feature(cfeature.LAKES,\n               edgecolor='black',\n               linewidth=0.2,\n               facecolor='white',\n               zorder=4)\n\n# plot filled contour data\nheatmap = t.plot.contourf(ax=ax,\n                          transform=ccrs.PlateCarree(),\n                          levels=80,\n                          vmin=-1.5,\n                          vmax=28.5,\n                          cmap='RdGy',\n                          add_colorbar=False,\n                          zorder=1)\n\n# Add color bar\ncbar_ticks = np.arange(-1.5, 31.5, 3)\ncbar = plt.colorbar(heatmap,\n                    orientation='horizontal', \n                    extendfrac=[0,.1],\n                    shrink=0.8, \n                    aspect=14,\n                    pad=0.05, \n                    extendrect=True,\n                    ticks=cbar_ticks)\n\ncbar.ax.tick_params(labelsize=10)\n\n# Get rid of black outline on colorbar\ncbar.outline.set_visible(False)\n\n# Set main plot title\nmain = r\"$\\bf{Example}$\" + \" \" + r\"$\\bf{of}$\" + \" \" + r\"$\\bf{Zooming}$\" + \\\n       \" \" + r\"$\\bf{a}$\" + \" \" + r\"$\\bf{Sat}$\" + \" \" + r\"$\\bf{Projection}$\"\n\n# Set plot subtitles using NetCDF metadata\nleft = t.long_name\nright = t.units\n\n# Use geocat-viz function to create main, left, and right plot titles\ntitle = gvutil.set_titles_and_labels(ax,\n                                     maintitle=main,\n                                     maintitlefontsize=16,\n                                     lefttitle=left,\n                                     lefttitlefontsize=14,\n                                     righttitle=right,\n                                     righttitlefontsize=14,\n                                     xlabel=\"\",\n                                     ylabel=\"\")\n\n# Plot gridlines\ngl = ax.gridlines(color='black', linewidth=0.2, zorder=2)\n\n# Set frequency of gridlines in the x and y directions\ngl.xlocator = mticker.FixedLocator(np.arange(-180, 180, 15))\ngl.ylocator = mticker.FixedLocator(np.arange(-90, 90, 15))\n\n# Manually plot tick marks.\n# NCL has automatic tick mark placement on orthographic projections,\n# Python's cartopy module does not have this functionality yet.\nplotOrthoTicks([(0, 81.7)], 'zero')\nplotOrthoTicks([(-80, 30), (-76, 20), (-88, 40), (-107, 50)], 'left')\nplotOrthoTicks([(-9, 30), (-6, 40), (1, 50), (13, 60)], 'right')\nplotOrthoTicks([(-120, 60), (-60, 82.5)], 'top')\nplotOrthoTicks([(-75, 16.0), (-60, 25.0), (-45, 29.0), (-30, 29.5),\n                (-15, 26.5)], 'bottom')\n\nplt.tight_layout()\nplt.show()"
      ]
    }
  ],
  "metadata": {
    "kernelspec": {
      "display_name": "Python 3",
      "language": "python",
      "name": "python3"
    },
    "language_info": {
      "codemirror_mode": {
        "name": "ipython",
        "version": 3
      },
      "file_extension": ".py",
      "mimetype": "text/x-python",
      "name": "python",
      "nbconvert_exporter": "python",
      "pygments_lexer": "ipython3",
      "version": "3.7.9"
    }
  },
  "nbformat": 4,
  "nbformat_minor": 0
}