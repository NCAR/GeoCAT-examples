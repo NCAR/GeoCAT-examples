{
  "cells": [
    {
      "cell_type": "code",
      "execution_count": null,
      "metadata": {
        "collapsed": false
      },
      "outputs": [],
      "source": [
        "%matplotlib inline"
      ]
    },
    {
      "cell_type": "markdown",
      "metadata": {},
      "source": [
        "\n# NCL_mask_1.py\nThis script illustrates the following concepts:\n   - Using \"mask\" to set land or ocean values in your data to missing\n   - Masking the ocean in a map plot\n   - Masking land in a map plot\n   - Spanning part of a color map for contour fill\n\nSee following URLs to see the reproduced NCL plot & script:\n    - Original NCL script: https://www.ncl.ucar.edu/Applications/Scripts/mask_1.ncl\n    - Original NCL plot: https://www.ncl.ucar.edu/Applications/Images/mask_1_1_lg.png and https://www.ncl.ucar.edu/Applications/Images/mask_1_2_lg.png\n"
      ]
    },
    {
      "cell_type": "markdown",
      "metadata": {},
      "source": [
        "Import packages:\n\n"
      ]
    },
    {
      "cell_type": "code",
      "execution_count": null,
      "metadata": {
        "collapsed": false
      },
      "outputs": [],
      "source": [
        "import cartopy.crs as ccrs\nimport matplotlib.pyplot as plt\nimport numpy as np\nimport xarray as xr\n\nimport geocat.datafiles as gdf\nfrom geocat.viz import cmaps as gvcmaps\nfrom geocat.viz import util as gvutil"
      ]
    },
    {
      "cell_type": "markdown",
      "metadata": {},
      "source": [
        "Read in data:\n\n"
      ]
    },
    {
      "cell_type": "code",
      "execution_count": null,
      "metadata": {
        "collapsed": false
      },
      "outputs": [],
      "source": [
        "# Open a netCDF data file using xarray default engine and load the data into xarrays\nds = xr.open_dataset(gdf.get(\"netcdf_files/atmos.nc\"), decode_times=False\n                    )  # Disable time decoding due to missing necessary metadata\n# Extract a slice of the data\nds = ds.isel(time=0).drop(\"time\")"
      ]
    },
    {
      "cell_type": "markdown",
      "metadata": {},
      "source": [
        "Data Masking:\n\n"
      ]
    },
    {
      "cell_type": "code",
      "execution_count": null,
      "metadata": {
        "collapsed": false
      },
      "outputs": [],
      "source": [
        "# Use xarray.DataArray.where() function to mask out land and then ocean data\nland_only = ds.TS.where(ds.ORO == 1.0)\nocean_only = ds.TS.where(ds.ORO == 0.0)\nland_only = gvutil.xr_add_cyclic_longitudes(land_only, \"lon\")\nocean_only = gvutil.xr_add_cyclic_longitudes(ocean_only, \"lon\")"
      ]
    },
    {
      "cell_type": "markdown",
      "metadata": {},
      "source": [
        "Plot Ocean Only:\n\n"
      ]
    },
    {
      "cell_type": "code",
      "execution_count": null,
      "metadata": {
        "collapsed": false
      },
      "outputs": [],
      "source": [
        "# Generate figure (set its size (width, height) in inches)\nplt.figure(figsize=(10, 6))\n\n# Generate axes using Cartopy and draw coastlines\nprojection = ccrs.PlateCarree()\nax = plt.axes(projection=projection)\nax.coastlines(linewidth=0.5, resolution=\"110m\")\n\n# Import an NCL colormap, truncating it by using geocat.viz.util convenience function\nnewcmp = gvutil.truncate_colormap(gvcmaps.BlAqGrYeOrRe,\n                                  minval=0.1,\n                                  maxval=1.0,\n                                  n=22)\n\n# Contourf-plot ocean-only data (for filled contours)\nfilled = ocean_only.plot.contourf(ax=ax,\n                                  cmap=newcmp,\n                                  levels=np.arange(260, 305, 2),\n                                  xticks=np.arange(-180, 181, 30),\n                                  yticks=np.arange(-90, 91, 30),\n                                  transform=ccrs.PlateCarree(),\n                                  add_colorbar=False,\n                                  add_labels=False,\n                                  vmin=260,\n                                  vmax=304)\n\n# Add horizontal colorbar\ncbar = plt.colorbar(filled,\n                    ax=ax,\n                    orientation=\"horizontal\",\n                    aspect=30,\n                    drawedges=True)\ncbar.set_ticks(np.arange(262, 304, 4))\n\n# Use geocat.viz.util convenience function to add minor and major tick lines\ngvutil.add_major_minor_ticks(ax)\n\n# Use geocat.viz.util convenience function to make plots look like NCL plots by using latitude, longitude tick labels\ngvutil.add_lat_lon_ticklabels(ax)\n\n# Use geocat.viz.util convenience function to add main title as well as titles to left and right of the plot axes.\ngvutil.set_titles_and_labels(ax,\n                             maintitle=\"Ocean Only\",\n                             lefttitle=ocean_only.attrs['long_name'],\n                             lefttitlefontsize=14,\n                             righttitle=ocean_only.attrs['units'],\n                             righttitlefontsize=14)\n\n# Show the plot\nplt.show()"
      ]
    },
    {
      "cell_type": "markdown",
      "metadata": {},
      "source": [
        "Plot Land Only:\n\n"
      ]
    },
    {
      "cell_type": "code",
      "execution_count": null,
      "metadata": {
        "collapsed": false
      },
      "outputs": [],
      "source": [
        "# Generate figure (set its size (width, height) in inches)\nplt.figure(figsize=(10, 6))\n\n# Generate axes using Cartopy and draw coastlines\nax = plt.axes(projection=projection)\nax.coastlines(linewidth=0.5, resolution=\"110m\")\n\n# Import an NCL colormap\nnewcmp = gvutil.truncate_colormap(gvcmaps.BlAqGrYeOrRe,\n                                  minval=0.1,\n                                  maxval=1.0,\n                                  n=32)\n\n# Contourf-plot land-only data (for filled contours)\nfilled = land_only.plot.contourf(ax=ax,\n                                 cmap=newcmp,\n                                 levels=np.arange(215, 316, 4),\n                                 xticks=np.arange(-180, 181, 30),\n                                 yticks=np.arange(-90, 91, 30),\n                                 transform=ccrs.PlateCarree(),\n                                 add_colorbar=False,\n                                 add_labels=False,\n                                 vmin=215,\n                                 vmax=315)\n\n# Add horizontal colorbar\ncbar = plt.colorbar(filled,\n                    ax=ax,\n                    orientation=\"horizontal\",\n                    aspect=30,\n                    drawedges=True)\ncbar.set_ticks(np.arange(219, 304, 12))\n\n# Use geocat.viz.util convenience function to add minor and major tick lines\ngvutil.add_major_minor_ticks(ax)\n\n# Use geocat.viz.util convenience function to make plots look like NCL plots by using latitude, longitude tick labels\ngvutil.add_lat_lon_ticklabels(ax)\n\n# Use geocat.viz.util convenience function to add main title as well as titles to left and right of the plot axes.\ngvutil.set_titles_and_labels(ax,\n                             maintitle=\"Land Only\",\n                             lefttitle=land_only.attrs['long_name'],\n                             lefttitlefontsize=14,\n                             righttitle=land_only.attrs['units'],\n                             righttitlefontsize=14)\n\n# Show the plot\nplt.show()"
      ]
    }
  ],
  "metadata": {
    "kernelspec": {
      "display_name": "Python 3",
      "language": "python",
      "name": "python3"
    },
    "language_info": {
      "codemirror_mode": {
        "name": "ipython",
        "version": 3
      },
      "file_extension": ".py",
      "mimetype": "text/x-python",
      "name": "python",
      "nbconvert_exporter": "python",
      "pygments_lexer": "ipython3",
      "version": "3.7.9"
    }
  },
  "nbformat": 4,
  "nbformat_minor": 0
}