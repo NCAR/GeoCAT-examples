{
  "cells": [
    {
      "cell_type": "code",
      "execution_count": null,
      "metadata": {
        "collapsed": false
      },
      "outputs": [],
      "source": [
        "%matplotlib inline"
      ]
    },
    {
      "cell_type": "markdown",
      "metadata": {},
      "source": [
        "\n# NCL_mask_2.py\nThis script illustrates the following concepts:\n   - Using keyword zorder to mask areas in a plot\n   - Drawing filled land areas on top of a contour plot\n   - Selecting a different colormap to abide by best practices. See the `color examples <https://geocat-examples.readthedocs.io/en/latest/gallery/index.html#colors>`_ for more information.\n\nSee following URLs to see the reproduced NCL plot & script:\n    - Original NCL script: https://www.ncl.ucar.edu/Applications/Scripts/mask_2.ncl\n    - Original NCL plot: https://www.ncl.ucar.edu/Applications/Images/mask_2_lg.png\n\nUsing zorder:\n    The ``zorder`` keyword is used by ``matplotlib`` to layer elements in a\n    plot. Elements with lower ``zorder`` values are plotted first and other\n    elements are layered on top based on increasing ``zorder`` values. For\n    more information, please refer to ``matplotlib``'s\n    `zorder demo <https://matplotlib.org/3.3.0/gallery/misc/zorder_demo.html>`_\n    page.\n"
      ]
    },
    {
      "cell_type": "markdown",
      "metadata": {},
      "source": [
        "Import packages:\n\n"
      ]
    },
    {
      "cell_type": "code",
      "execution_count": null,
      "metadata": {
        "collapsed": false
      },
      "outputs": [],
      "source": [
        "import cartopy.crs as ccrs\nimport cartopy.feature as cfeature\nfrom cartopy.mpl.gridliner import LongitudeFormatter, LatitudeFormatter\nimport matplotlib.pyplot as plt\nimport numpy as np\nimport xarray as xr\n\nimport geocat.datafiles as gdf\nfrom geocat.viz import util as gvutil"
      ]
    },
    {
      "cell_type": "markdown",
      "metadata": {},
      "source": [
        "Read in data:\n\n"
      ]
    },
    {
      "cell_type": "code",
      "execution_count": null,
      "metadata": {
        "collapsed": false
      },
      "outputs": [],
      "source": [
        "# Open a netCDF data file using xarray and load the data into xarrays\n# Disable time decoding due to missing necessary metadata\nds = xr.open_dataset(gdf.get(\"netcdf_files/atmos.nc\"), decode_times=False)\n\n# Extract a slice of the data at first time step\nds = ds.isel(time=0).drop(\"time\")\nTS = ds.TS\n\n# Fix the artifact of not-shown-data around 0 and 360-degree longitudes\nTS = gvutil.xr_add_cyclic_longitudes(TS, \"lon\")"
      ]
    },
    {
      "cell_type": "markdown",
      "metadata": {},
      "source": [
        "Plot:\n\n"
      ]
    },
    {
      "cell_type": "code",
      "execution_count": null,
      "metadata": {
        "collapsed": false
      },
      "outputs": [],
      "source": [
        "# Generate figure (set its size (width, height) in inches)\nfig = plt.figure(figsize=(10, 6))\n\n# Generate axes using Cartopy and draw land masses, coastlines, and lakes\nax = plt.axes(projection=ccrs.PlateCarree())\nax.add_feature(cfeature.LAND, facecolor='lightgray', zorder=1)\nax.add_feature(cfeature.COASTLINE, linewidth=0.5, zorder=1)\nax.add_feature(cfeature.LAKES,\n               linewidth=0.5,\n               edgecolor='black',\n               facecolor='None',\n               zorder=1)\n\n# Plot filled contour\ncontour = TS.plot.contourf(ax=ax,\n                           transform=ccrs.PlateCarree(),\n                           cmap='magma',\n                           levels=np.arange(216, 315, 3),\n                           extend='neither',\n                           add_colorbar=False,\n                           add_labels=False,\n                           zorder=0)\nplt.colorbar(contour,\n             ax=ax,\n             ticks=np.linspace(219, 303, 8),\n             orientation='horizontal',\n             pad=0.075,\n             drawedges=True,\n             shrink=0.7)\n\n# Use geocat.viz.util convenience function to set axes limits & tick values\ngvutil.set_axes_limits_and_ticks(ax,\n                                 xlim=(-180, 180),\n                                 ylim=(-90, 90),\n                                 xticks=np.linspace(-180, 180, 13),\n                                 yticks=np.linspace(-90, 90, 7))\n\n# Use geocat.viz.util convenience function to add minor and major tick lines\ngvutil.add_major_minor_ticks(ax, labelsize=12)\n\n# Use geocat.viz.util convenience function to make latitude and\n# longitude tick labels\ngvutil.add_lat_lon_ticklabels(ax)\n# Remove the degree symbol from tick labels\nax.yaxis.set_major_formatter(LatitudeFormatter(degree_symbol=''))\nax.xaxis.set_major_formatter(LongitudeFormatter(degree_symbol=''))\n\n# Use geocat.viz.util convenience function to add titles\ngvutil.set_titles_and_labels(ax,\n                             maintitle='Draw land ON TOP of contours',\n                             lefttitle=TS.long_name,\n                             righttitle=TS.units,\n                             lefttitlefontsize=14,\n                             righttitlefontsize=14)\n\nplt.show()"
      ]
    }
  ],
  "metadata": {
    "kernelspec": {
      "display_name": "Python 3",
      "language": "python",
      "name": "python3"
    },
    "language_info": {
      "codemirror_mode": {
        "name": "ipython",
        "version": 3
      },
      "file_extension": ".py",
      "mimetype": "text/x-python",
      "name": "python",
      "nbconvert_exporter": "python",
      "pygments_lexer": "ipython3",
      "version": "3.7.9"
    }
  },
  "nbformat": 4,
  "nbformat_minor": 0
}