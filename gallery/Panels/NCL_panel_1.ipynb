{
  "cells": [
    {
      "cell_type": "code",
      "execution_count": null,
      "metadata": {
        "collapsed": false
      },
      "outputs": [],
      "source": [
        "%matplotlib inline"
      ]
    },
    {
      "cell_type": "markdown",
      "metadata": {},
      "source": [
        "\n# NCL_panel_1.py\nThis script illustrates the following concepts:\n   - Three panel (subplot) image with shared colorbar and title\n   - Adding a common title to paneled plots\n   - Adding a common labelbar (or colorbar) to paneled plots\n   - Subsetting a color map\n\nSee following URLs to see the reproduced NCL plot & script:\n    - Original NCL script: https://www.ncl.ucar.edu/Applications/Scripts/panel_1.ncl\n    - Original NCL plot: https://www.ncl.ucar.edu/Applications/Images/panel_1_lg.png\n"
      ]
    },
    {
      "cell_type": "markdown",
      "metadata": {},
      "source": [
        "Import packages:\n\n"
      ]
    },
    {
      "cell_type": "code",
      "execution_count": null,
      "metadata": {
        "collapsed": false
      },
      "outputs": [],
      "source": [
        "import numpy as np\nimport xarray as xr\nimport cartopy\nimport cartopy.crs as ccrs\nimport matplotlib.pyplot as plt\n\nimport geocat.datafiles as gdf\nimport geocat.viz.util as gvutil"
      ]
    },
    {
      "cell_type": "markdown",
      "metadata": {},
      "source": [
        "Read in data:\n\n"
      ]
    },
    {
      "cell_type": "code",
      "execution_count": null,
      "metadata": {
        "collapsed": false
      },
      "outputs": [],
      "source": [
        "# Open a netCDF data file using xarray default engine and load the data into xarrays, choosing the 2nd timestamp\nds = xr.open_dataset(gdf.get(\"netcdf_files/uv300.nc\")).isel(time=1)"
      ]
    },
    {
      "cell_type": "markdown",
      "metadata": {},
      "source": [
        "Plot:\n\n"
      ]
    },
    {
      "cell_type": "code",
      "execution_count": null,
      "metadata": {
        "collapsed": false
      },
      "outputs": [],
      "source": [
        "# Make three panels (i.e. subplots in matplotlib)\n# Specify ``constrained_layout=True`` to automatically layout panels, colorbars and axes decorations nicely.\n# See https://matplotlib.org/tutorials/intermediate/constrainedlayout_guide.html\n# Generate figure and axes using Cartopy projection\nprojection = ccrs.PlateCarree()\nfig, ax = plt.subplots(3,\n                       1,\n                       constrained_layout=True,\n                       subplot_kw={\"projection\": projection})\n\n# Set figure size (width, height) in inches\nfig.set_size_inches((6, 9.6))\n\n# Add continents\ncontinents = cartopy.feature.NaturalEarthFeature(name=\"coastline\",\n                                                 category=\"physical\",\n                                                 scale=\"50m\",\n                                                 edgecolor=\"None\",\n                                                 facecolor=\"lightgray\")\n[axes.add_feature(continents) for axes in ax.flat]\n\n# Define the contour levels\nlevels = np.arange(-48, 48, 4)\n\n# Using a dictionary makes it easy to reuse the same keyword arguments twice for the contours\nkwargs = dict(\n    levels=levels,  # contour levels specified outside this function\n    xticks=np.arange(-180, 181, 30),  # nice x ticks\n    yticks=np.arange(-90, 91, 30),  # nice y ticks\n    transform=projection,  # ds projection\n    add_colorbar=False,  # don't add individual colorbars for each plot call\n    add_labels=False,  # turn off xarray's automatic Lat, lon labels\n    colors=\"black\",  # note plurals in this and following kwargs\n    linestyles=\"-\",\n    linewidths=0.5,\n)\n\n# Panel 1 (Subplot 1)\n# Contour-plot U data (for borderlines)\nhdl = ds.U.plot.contour(\n    x=\"lon\",\n    y=\"lat\",\n    ax=ax[0],\n    **kwargs,\n)\n\n# Label the contours and set axes title\nax[0].clabel(hdl, np.arange(0, 32, 8), fontsize=\"small\", fmt=\"%.0f\")\n\n# Use geocat.viz.util convenience function to add left and right title to the plot axes.\ngvutil.set_titles_and_labels(ax[0],\n                             lefttitle=\"Zonal Wind\",\n                             lefttitlefontsize=12,\n                             righttitle=ds.U.units,\n                             righttitlefontsize=12)\n\n# Panel 2 (Subplot 2)\n# Contour-plot V data (for borderlines)\nhdl = ds.V.plot.contour(x=\"lon\", y=\"lat\", ax=ax[1], **kwargs)\n\n# Label the contours and set axes title\nax[1].clabel(hdl, [0], fontsize=\"small\", fmt=\"%.0f\")\n\n# Use geocat.viz.util convenience function to add left and right title to the plot axes.\ngvutil.set_titles_and_labels(ax[1],\n                             lefttitle=\"Meridional Wind\",\n                             lefttitlefontsize=12,\n                             righttitle=ds.V.units,\n                             righttitlefontsize=12)\n\n# Panel 3 (Subplot 3)\n# Draw arrows\n# xarray doesn't have a quiver method (yet)\n# the NCL code plots every 4th value in lat, lon; this is the equivalent of u(::4, ::4)\nsubset = ds.isel(lat=slice(None, None, 4), lon=slice(None, None, 4))\nax[2].quiver(subset.lon,\n             subset.lat,\n             subset.U,\n             subset.V,\n             width=0.0015,\n             transform=projection,\n             zorder=2,\n             scale=1100)\n\n# Set axes title\nax[2].set_title(\"Vector Wind\", loc=\"left\", y=1.05)\n\n# Use geocat.viz.util convenience function to add left and right title to the plot axes.\ngvutil.set_titles_and_labels(ax[2],\n                             lefttitle=\"Vector Wind\",\n                             lefttitlefontsize=12,\n                             righttitle=ds.U.units,\n                             righttitlefontsize=12)\n\n# cartopy axes require this to be manual\nax[2].set_xticks(kwargs[\"xticks\"])\nax[2].set_yticks(kwargs[\"yticks\"])\n\n# Use geocat.viz.util convenience function to add minor and major tick lines\n[gvutil.add_major_minor_ticks(axes) for axes in ax.flat]\n\n# Use geocat.viz.util convenience function to make plots look like NCL plots by using latitude, longitude tick labels\n[gvutil.add_lat_lon_ticklabels(axes) for axes in ax.flat]\n\n# Show the plot\nplt.show()"
      ]
    }
  ],
  "metadata": {
    "kernelspec": {
      "display_name": "Python 3",
      "language": "python",
      "name": "python3"
    },
    "language_info": {
      "codemirror_mode": {
        "name": "ipython",
        "version": 3
      },
      "file_extension": ".py",
      "mimetype": "text/x-python",
      "name": "python",
      "nbconvert_exporter": "python",
      "pygments_lexer": "ipython3",
      "version": "3.7.9"
    }
  },
  "nbformat": 4,
  "nbformat_minor": 0
}