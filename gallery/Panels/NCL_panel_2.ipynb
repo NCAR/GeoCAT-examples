{
  "cells": [
    {
      "cell_type": "code",
      "execution_count": null,
      "metadata": {
        "collapsed": false
      },
      "outputs": [],
      "source": [
        "%matplotlib inline"
      ]
    },
    {
      "cell_type": "markdown",
      "metadata": {},
      "source": [
        "\n# NCL_panel_2.py\nThis script illustrates the following concepts:\n   - Paneling three plots vertically on a page\n   - Adding a common title to paneled plots\n\nSee following URLs to see the reproduced NCL plot & script:\n    - Original NCL script: https://www.ncl.ucar.edu/Applications/Scripts/panel_2.ncl\n    - Original NCL plot: https://www.ncl.ucar.edu/Applications/Images/panel_2_lg.png\n"
      ]
    },
    {
      "cell_type": "markdown",
      "metadata": {},
      "source": [
        "Import packages\n\n"
      ]
    },
    {
      "cell_type": "code",
      "execution_count": null,
      "metadata": {
        "collapsed": false
      },
      "outputs": [],
      "source": [
        "import numpy as np\nimport xarray as xr\nimport matplotlib.pyplot as plt\nimport cartopy\nimport cartopy.crs as ccrs\nfrom cartopy.mpl.gridliner import LongitudeFormatter, LatitudeFormatter\n\nimport geocat.datafiles as gdf\nimport geocat.viz.util as gvutil"
      ]
    },
    {
      "cell_type": "markdown",
      "metadata": {},
      "source": [
        "Import data\n\n"
      ]
    },
    {
      "cell_type": "code",
      "execution_count": null,
      "metadata": {
        "collapsed": false
      },
      "outputs": [],
      "source": [
        "# Open netCDF data file using xarray\nds = xr.open_dataset(gdf.get(\"netcdf_files/uv300.nc\")).isel(time=1)"
      ]
    },
    {
      "cell_type": "markdown",
      "metadata": {},
      "source": [
        "Plot using cartopy and matplotlib\n\n"
      ]
    },
    {
      "cell_type": "code",
      "execution_count": null,
      "metadata": {
        "collapsed": false
      },
      "outputs": [],
      "source": [
        "# Generate figure and axes using Cartopy projection\n# Make three subplots using matplotlib\nprojection = ccrs.PlateCarree()\nfig, ax = plt.subplots(3, 1, constrained_layout=True, subplot_kw={\"projection\": projection})\n\n# Set figure size\nfig.set_size_inches((8, 13.5))\n\n# Set common plot title\nplt.suptitle(\"A common title\", fontsize=16)\n\n# Display continents\ncontinents = cartopy.feature.NaturalEarthFeature(name=\"coastline\", category=\"physical\", scale=\"50m\", edgecolor=\"None\",\n                                                 facecolor=\"lightgray\")\n[axes.add_feature(continents) for axes in ax.flat]\n\n\n# Using a dictionary makes it easy to reuse the same keyword arguments twice for the contours\nkwargs = dict(\n    xticks=np.arange(-180, 181, 30),  # nice x ticks\n    yticks=np.arange(-90, 91, 30),  # nice y ticks\n    transform=projection,  # ds projection\n    add_colorbar=False,  # don't add individual colorbars for each plot call\n    add_labels=False,  # turn off xarray's automatic Lat, lon labels\n    colors=\"black\",  # note plurals in this and following kwargs\n    linestyles=\"-\",\n    linewidths=0.5)\n\n# Define first contour levels\nlevels = np.arange(-16,33,4)\n\n# Panel 1 (Subplot 1)\n# Contour-plot U data (for borderlines)\nhdl = ds.U.plot.contour(x=\"lon\", y=\"lat\", ax=ax[0], levels=levels, **kwargs)\n\n# Label the contours and set axes title\nax[0].clabel(hdl, np.arange(0, 33, 8), fmt=\"%.0f\")\n\n# Use geocat.viz.util convenience function to add left and right title to the plot axes.\ngvutil.set_titles_and_labels(ax[0], lefttitle=\"Zonal Wind\", lefttitlefontsize=12,\n                             righttitle=ds.U.units, righttitlefontsize=12)\n\n# Panel 2\n# Define second contour levels\nlevels = np.arange(-10, 50, 2)\n\n# Contour-plot V data (for borderlines)\nhdl = ds.V.plot.contour(x=\"lon\", y=\"lat\", ax=ax[1],levels=levels, **kwargs)\n\n# Label the contours and set axes title\nax[1].clabel(hdl, [0], fmt=\"%.0f\")\n\n# Use geocat.viz.util convenience function to add left and right title to the plot axes.\ngvutil.set_titles_and_labels(ax[1], lefttitle=\"Meridional Wind\", lefttitlefontsize=12,\n                             righttitle=ds.V.units, righttitlefontsize=12)\n\n\n# Panel 3\n# Draw arrows\n# xarray doesn't have a quiver method (yet)\n# the NCL code plots every 4th value in lat, lon; this is the equivalent of u(::4, ::4)\nsubset = ds.isel(lat=slice(None, None, 4), lon=slice(None, None, 4))\nax[2].quiver(subset.lon, subset.lat, subset.U, subset.V, width=0.0015, transform=projection, zorder=2, scale=1100)\n\n# Set axes title\nax[2].set_title(\"Vector Wind\", loc=\"left\", y=1.05)\n\n# Use geocat.viz.util convenience function to add left and right title to the plot axes.\ngvutil.set_titles_and_labels(ax[2], lefttitle=\"Vector Wind\", lefttitlefontsize=12,\n                             righttitle=ds.U.units, righttitlefontsize=12)\n\n# cartopy axes require this to be manual\nax[2].set_xticks(kwargs[\"xticks\"])\nax[2].set_yticks(kwargs[\"yticks\"])\n\n# Use geocat.viz.util convenience function to add minor and major tick lines\n[gvutil.add_major_minor_ticks(axes) for axes in ax.flat]\n\n# Use geocat.viz.util convenience function to make plots look like NCL plots by using latitude, longitude tick labels\n[gvutil.add_lat_lon_ticklabels(axes) for axes in ax.flat]\n\n# Remove degree markers from x and y labels\n[axes.yaxis.set_major_formatter(LatitudeFormatter(degree_symbol='')) for axes in ax.flat]\n[axes.xaxis.set_major_formatter(LongitudeFormatter(degree_symbol='')) for axes in ax.flat]\n\n\n# Display plot\nplt.show()"
      ]
    }
  ],
  "metadata": {
    "kernelspec": {
      "display_name": "Python 3",
      "language": "python",
      "name": "python3"
    },
    "language_info": {
      "codemirror_mode": {
        "name": "ipython",
        "version": 3
      },
      "file_extension": ".py",
      "mimetype": "text/x-python",
      "name": "python",
      "nbconvert_exporter": "python",
      "pygments_lexer": "ipython3",
      "version": "3.7.9"
    }
  },
  "nbformat": 4,
  "nbformat_minor": 0
}