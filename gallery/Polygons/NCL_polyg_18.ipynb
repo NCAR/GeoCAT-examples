{
  "cells": [
    {
      "cell_type": "code",
      "execution_count": null,
      "metadata": {
        "collapsed": false
      },
      "outputs": [],
      "source": [
        "%matplotlib inline"
      ]
    },
    {
      "cell_type": "markdown",
      "metadata": {},
      "source": [
        "\n# NCL_polyg_18.py\nThis script illustrates the following concepts:\n   - Adding lines, markers, and polygons to a map\n   - Drawing lines, markers, polygons, and text in inset axes\n\nSee following URLs to see the reproduced NCL plot & script:\n    - Original NCL script: https://www.ncl.ucar.edu/Applications/Scripts/polyg_18.ncl\n    - Original NCL plot: https://www.ncl.ucar.edu/Applications/Images/polyg_18_2_lg.png\n"
      ]
    },
    {
      "cell_type": "markdown",
      "metadata": {},
      "source": [
        "Import packages:\n\n"
      ]
    },
    {
      "cell_type": "code",
      "execution_count": null,
      "metadata": {
        "collapsed": false
      },
      "outputs": [],
      "source": [
        "import matplotlib.pyplot as plt\nimport matplotlib.patches as mpatches\nimport cartopy\nimport cartopy.crs as ccrs\nfrom cartopy.mpl.ticker import LatitudeFormatter, LongitudeFormatter\nimport numpy as np\n\nfrom geocat.viz import util as gvutil"
      ]
    },
    {
      "cell_type": "markdown",
      "metadata": {},
      "source": [
        "Define helper function to remove ticks/frames from axes\n\n"
      ]
    },
    {
      "cell_type": "code",
      "execution_count": null,
      "metadata": {
        "collapsed": false
      },
      "outputs": [],
      "source": [
        "def removeTicks(axis):\n    axis.get_xaxis().set_visible(False)\n    axis.get_yaxis().set_visible(False)"
      ]
    },
    {
      "cell_type": "markdown",
      "metadata": {},
      "source": [
        "Plot map, markers, and polygons\n\n"
      ]
    },
    {
      "cell_type": "code",
      "execution_count": null,
      "metadata": {
        "collapsed": false
      },
      "outputs": [],
      "source": [
        "# Set size of figure\nfig = plt.figure(figsize=(10, 10))\n\n# Make grid on figure with 2 rows, 1 column\ngrid = plt.GridSpec(2, 20, figure=fig)\n\n# Make subplot for map\nax = plt.subplot(grid[:-1, 1:], projection=ccrs.PlateCarree())\n\n# Add continents\ncontinents = cartopy.feature.NaturalEarthFeature(name='land',\n                                                 category='physical',\n                                                 scale='50m',\n                                                 edgecolor='None',\n                                                 facecolor='lightgray')\n\nax.add_feature(continents)\n\n# Set map extent\nax.set_global()\n\n# Create arrays with location of each marker\nlon = np.arange(-160, 160, 20)\nlat = np.arange(-80, 80, 10)\n\n# Create array with marker symbols\n# Matplotlib provides a different set of markers than NCL, so plot appearance differs\nmarker = [\n    '.', '+', '*', 'o', 'x', 's', '^', 'v', 'D', '>', '<', 'p', 'h', '8', 'X',\n    'd'\n]\n\n# Draw markers on diagonal line across graph\nfor x in range(len(lon)):\n    ax.plot(lon[x],\n            lat[x],\n            marker=marker[x],\n            color='blue',\n            fillstyle='none',\n            markersize=18,\n            zorder=3)\n\n# Draw small red box in upper center\nax.add_patch(\n    mpatches.Rectangle(xy=[7, 47],\n                       width=9,\n                       height=7,\n                       facecolor='None',\n                       edgecolor='red',\n                       alpha=1.0,\n                       transform=ccrs.PlateCarree(),\n                       zorder=5))\n\n# Draw green window in bottom right\nax.add_patch(\n    mpatches.Rectangle(xy=[110, -45],\n                       width=50,\n                       height=35,\n                       facecolor='lime',\n                       alpha=0.3,\n                       transform=ccrs.PlateCarree(),\n                       zorder=5))\n\n# Use gvutil function to set the ticks on axes\ngvutil.set_axes_limits_and_ticks(ax,\n                                 xlim=None,\n                                 ylim=None,\n                                 xticks=np.arange(-180, 210, 30),\n                                 yticks=np.arange(-90, 120, 30),\n                                 xticklabels=None,\n                                 yticklabels=None)\n\n# Use gvutil function to give ticks W/N/E/S labels\ngvutil.add_lat_lon_ticklabels(ax,\n                              zero_direction_label=True,\n                              dateline_direction_label=True)\n\n# Took out degree symbols in latitude/longitude\nax.yaxis.set_major_formatter(LatitudeFormatter(degree_symbol=''))\nax.xaxis.set_major_formatter(LongitudeFormatter(degree_symbol=''))\n\n# Use gvutil function to set title of plot\n# Set title font to bold using the r\"$\\bf{_____}$\" formatting characters\n# Spaces in title will not show up if included in curly brackets\ngvutil.set_titles_and_labels(ax,\n                             maintitle=r\"$\\bf{Big}$\" + \" \" +\n                             r\"$\\bf{centered}$\" + \" \" + r\"$\\bf{title}$\",\n                             maintitlefontsize=25)\n\n# Use gvutil function to plot three minor ticks for every major tick on axes\ngvutil.add_major_minor_ticks(ax,\n                             x_minor_per_major=3,\n                             y_minor_per_major=3,\n                             labelsize=\"small\")\n\n# Make second subplot for legend\nax2 = plt.subplot(grid[-1, 1:], frameon=False)\nremoveTicks(ax2)\n\n# Create 6 inset axes within subplot for each field in legend\n# Inset_axes positional array argument takes four values:\n# [starting (bottom left) x coordinate of window, starting y coordinate of window, width of field, height of field]\n\n# Add circle\naxin1 = ax2.inset_axes([0.1, 0.8, .1, .1], frameon=False)\nremoveTicks(axin1)\naxin1.add_patch(mpatches.Circle((0.1, 0.1), radius=.1, color='blue'))\naxin1.axis('equal')\n\n# Add label for circle\naxin2 = ax2.inset_axes([0.0, 0.65, .20, .5], frameon=False)\nremoveTicks(axin2)\naxin2.text(0,\n           .7,\n           'Marker (left justified text)',\n           color='blue',\n           fontsize=12,\n           verticalalignment='center')\n\n# Add red line\naxin3 = ax2.inset_axes([0.30, 0.6, .33, .5], frameon=False)\nremoveTicks(axin3)\naxin3.plot([0, 4], [3, 3], color='red')\naxin1.axis('scaled')\n\n# Add label for red line\naxin4 = ax2.inset_axes([0.33, 0.65, .33, .5], frameon=False)\nremoveTicks(axin4)\naxin4.text(0,\n           .7,\n           'Polyline (centered text)',\n           color='red',\n           fontsize=12,\n           verticalalignment='center')\n\n# Add green polygon\naxin5 = ax2.inset_axes([0.62, 0.6, .33, .5], frameon=False)\nremoveTicks(axin5)\naxin5.add_patch(\n    mpatches.Rectangle(xy=[.3, .3],\n                       width=.6,\n                       height=.3,\n                       facecolor='lime',\n                       alpha=0.3))\naxin1.axis('scaled')\n\n# Add label for green polygon\naxin6 = ax2.inset_axes([0.66, 0.65, .33, .5], frameon=False)\nremoveTicks(axin6)\naxin6.text(0,\n           .7,\n           'Polygon (right justified text)',\n           color='lime',\n           fontsize=12,\n           verticalalignment='center')\n\nplt.show()"
      ]
    }
  ],
  "metadata": {
    "kernelspec": {
      "display_name": "Python 3",
      "language": "python",
      "name": "python3"
    },
    "language_info": {
      "codemirror_mode": {
        "name": "ipython",
        "version": 3
      },
      "file_extension": ".py",
      "mimetype": "text/x-python",
      "name": "python",
      "nbconvert_exporter": "python",
      "pygments_lexer": "ipython3",
      "version": "3.7.9"
    }
  },
  "nbformat": 4,
  "nbformat_minor": 0
}