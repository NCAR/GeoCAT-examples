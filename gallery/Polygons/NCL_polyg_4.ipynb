{
  "cells": [
    {
      "cell_type": "code",
      "execution_count": null,
      "metadata": {
        "collapsed": false
      },
      "outputs": [],
      "source": [
        "%matplotlib inline"
      ]
    },
    {
      "cell_type": "markdown",
      "metadata": {},
      "source": [
        "\n# NCL_polyg_4.py\nThis script illustrates the following concepts:\n   - Drawing a cylindrical equidistant map\n   - Zooming in on a particular area on a cylindrical equidistant map\n   - Attaching an outlined box to a map plot\n   - Attaching filled polygons to a map plot\n   - Filling in polygons with a shaded pattern\n   - Changing the color and thickness of polylines\n   - Changing the color of a filled polygon\n   - Labeling the lines in a polyline\n   - Changing the density of a fill pattern\n   - Adding text to a plot\n\nSee following URLs to see the reproduced NCL plot & script:\n    - Original NCL script: https://www.ncl.ucar.edu/Applications/Scripts/polyg_4.ncl\n    - Original NCL plot: https://www.ncl.ucar.edu/Applications/Images/polyg_4_1_lg.png and https://www.ncl.ucar.edu/Applications/Images/polyg_4_2_lg.png\n"
      ]
    },
    {
      "cell_type": "markdown",
      "metadata": {},
      "source": [
        "## Import packages:\n\n"
      ]
    },
    {
      "cell_type": "code",
      "execution_count": null,
      "metadata": {
        "collapsed": false
      },
      "outputs": [],
      "source": [
        "import numpy as np\nimport xarray as xr\nimport cartopy\nimport cartopy.crs as ccrs\nimport matplotlib.pyplot as plt\n\nimport geocat.datafiles as gdf\nfrom geocat.viz import util as gvutil"
      ]
    },
    {
      "cell_type": "markdown",
      "metadata": {},
      "source": [
        "## Read in data:\n\n"
      ]
    },
    {
      "cell_type": "code",
      "execution_count": null,
      "metadata": {
        "collapsed": false
      },
      "outputs": [],
      "source": [
        "# Open a netCDF data file using xarray default engine and load the data into xarrays, choosing the 2nd timestamp\nds = xr.open_dataset(gdf.get(\"netcdf_files/uv300.nc\")).isel(time=1)"
      ]
    },
    {
      "cell_type": "markdown",
      "metadata": {},
      "source": [
        "## Utility Function: Make Base Plot:\n\n"
      ]
    },
    {
      "cell_type": "code",
      "execution_count": null,
      "metadata": {
        "collapsed": false
      },
      "outputs": [],
      "source": [
        "# Define a utility function to create the basic contour plot, which will get used twice to create two slightly\n# different plots\ndef make_base_plot():\n\n    # Generate axes using Cartopy projection\n    ax = plt.axes(projection=ccrs.PlateCarree())\n\n    # Add continents\n    continents = cartopy.feature.NaturalEarthFeature(\n        name=\"coastline\",\n        category=\"physical\",\n        scale=\"50m\",\n        edgecolor=\"None\",\n        facecolor=\"lightgray\",\n    )\n    ax.add_feature(continents)\n\n    # Set map extent\n    ax.set_extent([-130, 0, -20, 40], crs=ccrs.PlateCarree())\n\n    # Define the contour levels. The top range value of 44 is not included in the levels.\n    levels = np.arange(-12, 44, 4)\n\n    # Using a dictionary prevents repeating the same keyword arguments twice for the contours.\n    kwargs = dict(\n        levels=levels,  # contour levels specified outside this function\n        xticks=[-120, -90, -60, -30, 0],  # nice x ticks\n        yticks=[-20, 0, 20, 40],  # nice y ticks\n        transform=ccrs.PlateCarree(),  # ds projection\n        add_colorbar=False,  # don't add individual colorbars for each plot call\n        add_labels=False,  # turn off xarray's automatic Lat, lon labels\n        colors=\"gray\",  # note plurals in this and following kwargs\n        linestyles=\"-\",\n        linewidths=0.5,\n    )\n\n    # Contourf-plot data (for filled contours)\n    hdl = ds.U.plot.contour(x=\"lon\", y=\"lat\", ax=ax, **kwargs)\n\n    # Add contour labels.   Default contour labels are sparsely placed, so we specify label locations manually.\n    # Label locations only need to be approximate; the nearest contour will be selected.\n    label_locations = [\n        (-123, 35),\n        (-116, 17),\n        (-94, 4),\n        (-85, -6),\n        (-95, -10),\n        (-85, -15),\n        (-70, 35),\n        (-42, 28),\n        (-54, 7),\n        (-53, -5),\n        (-39, -11),\n        (-28, 11),\n        (-16, -1),\n        (-8, -9),  # Python allows trailing list separators.\n    ]\n    ax.clabel(\n        hdl,\n        np.arange(-8, 24, 8),  # Only label these contour levels: [-8, 0, 8, 16]\n        fontsize=\"small\",\n        colors=\"black\",\n        fmt=\"%.0f\",  # Turn off decimal points\n        manual=label_locations,  # Manual label locations\n        inline=False)  # Don't remove the contour line where labels are located.\n\n    # Create a rectangle patch, to color the border of the rectangle a different color.\n    # Specify the rectangle as a corner point with width and height, to help place border text more easily.\n    left, width = -90, 45\n    bottom, height = 0, 30\n    right = left + width\n    top = bottom + height\n\n    # Draw rectangle patch on the plot\n    p = plt.Rectangle(\n        (left, bottom),\n        width,\n        height,\n        fill=False,\n        zorder=3,  # Plot on top of the purple box border.\n        edgecolor='red',\n        alpha=0.5)  # Lower color intensity.\n    ax.add_patch(p)\n\n    # Draw text labels around the box.\n    # Change the default padding around a text box to zero, making it a \"tight\" box.\n    # Create \"text_args\" to keep from repeating code when drawing text.\n    text_shared_args = dict(\n        fontsize=8,\n        bbox=dict(boxstyle='square, pad=0',\n                  facecolor='white',\n                  edgecolor='white'),\n    )\n\n    # Draw top text\n    ax.text(left + 0.6 * width,\n            top,\n            'test',\n            horizontalalignment='right',\n            verticalalignment='center',\n            **text_shared_args)\n\n    # Draw bottom text.   Change text background to match the map.\n    ax.text(\n        left + 0.5 * width,\n        bottom,\n        'test',\n        horizontalalignment='right',\n        verticalalignment='center',\n        fontsize=8,\n        bbox=dict(boxstyle='square, pad=0',\n                  facecolor='lightgrey',\n                  edgecolor='lightgrey'),\n    )\n\n    # Draw left text\n    ax.text(left,\n            top,\n            'test',\n            horizontalalignment='center',\n            verticalalignment='top',\n            rotation=90,\n            **text_shared_args)\n\n    # Draw right text\n    ax.text(right,\n            bottom,\n            'test',\n            horizontalalignment='center',\n            verticalalignment='bottom',\n            rotation=-90,\n            **text_shared_args)\n\n    # Add lower text box.  Box appears off-center, but this is to leave room\n    # for lower-case letters that drop lower.\n    ax.text(1.0,\n            -0.20,\n            \"CONTOUR FROM -12 TO 40 BY 4\",\n            fontname='Helvetica',\n            horizontalalignment='right',\n            transform=ax.transAxes,\n            bbox=dict(boxstyle='square, pad=0.15',\n                      facecolor='white',\n                      edgecolor='black'))\n\n    # Use geocat.viz.util convenience function to add main title as well as titles to left and right of the plot axes.\n    gvutil.set_titles_and_labels(ax,\n                                 lefttitle=\"Zonal Wind\",\n                                 lefttitlefontsize=12,\n                                 righttitle=\"m/s\",\n                                 righttitlefontsize=12)\n\n    # Use geocat.viz.util convenience function to add minor and major tick lines\n    gvutil.add_major_minor_ticks(ax, y_minor_per_major=4)\n\n    # Use geocat.viz.util convenience function to make plots look like NCL plots by using latitude, longitude tick labels\n    gvutil.add_lat_lon_ticklabels(ax)\n\n    return ax"
      ]
    },
    {
      "cell_type": "markdown",
      "metadata": {},
      "source": [
        "## Plot 1 (Text inside a box):\n\n"
      ]
    },
    {
      "cell_type": "code",
      "execution_count": null,
      "metadata": {
        "collapsed": false
      },
      "outputs": [],
      "source": [
        "# Create the base figure\nax = make_base_plot()\n\n# Draw text inside of box\nax.text(-60.0, 15.0, \"sample\", fontsize=11, horizontalalignment='center')\n\n# Show the plot\nplt.show()"
      ]
    },
    {
      "cell_type": "markdown",
      "metadata": {},
      "source": [
        "## Utility Function: Draw Hatch Polygon:\n\n"
      ]
    },
    {
      "cell_type": "code",
      "execution_count": null,
      "metadata": {
        "collapsed": false
      },
      "outputs": [],
      "source": [
        "# Define a utility function that draws a polygon and then erases its border with another polygon.\ndef draw_hatch_polygon(xvals, yvals, hatchcolor, hatchpattern):\n    \"\"\" Draw a polygon filled with a hatch pattern, but with no edges on the polygon.\n    \"\"\"\n    ax.fill(\n        xvals,\n        yvals,\n        edgecolor=hatchcolor,\n        zorder=\n        -1,  # Place underneath contour map (larger zorder is closer to viewer).\n        fill=False,\n        linewidth=0.5,\n        hatch=hatchpattern,\n        alpha=0.3  # Reduce color intensity\n    )\n\n    # Hatch color and polygon edge color are tied together, so we have to draw a white polygon edge\n    # on top of the original polygon to remove the edge.\n    ax.fill(\n        xvals,\n        yvals,\n        edgecolor='white',\n        zorder=\n        0,  # Place on top of other polygon (larger zorder is closer to viewer).\n        fill=False,\n        linewidth=1  # Slightly larger linewidth removes ghost edges.\n    )"
      ]
    },
    {
      "cell_type": "markdown",
      "metadata": {},
      "source": [
        "## Plot 2 (Polygons with hatch patterns):\n\n"
      ]
    },
    {
      "cell_type": "code",
      "execution_count": null,
      "metadata": {
        "collapsed": false
      },
      "outputs": [],
      "source": [
        "# Make this figure the thumbnail image on the HTML page.\n# sphinx_gallery_thumbnail_number = 2\n\n# Create the base figure\nax = make_base_plot()\n\n# Plot the hatch pattern \"underneath\" the red box, to hide the purple border that is unavoidably attached to producing\n# the hatch pattern.\nx_points = [-90.0, -45.0, -45.0, -90.0, -90.0]\ny_points = [30.0, 30.0, 0.0, 0.0, 30.0]\n\nax.fill(\n    x_points,\n    y_points,\n    edgecolor='purple',  # Box hatch pattern is purple.\n    zorder=2,  # Place on top of map (larger zorder is closer to viewer).\n    fill=False,\n    hatch='...',  # Adding more or fewer dots to '...' will change hatch density.\n    linewidth=0.5,  # Make each dot smaller\n    alpha=0.2  # Make hatch semi-transparent using alpha level in range [0, 1].\n)\n\n# Draw some triangles with various hatch pattern densities.\nx_tri = np.array([-125, -115, -120])\ny_tri = np.array([-15, -10, 5])\n\ndraw_hatch_polygon(x_tri, y_tri, 'brown', '++++')\n\ndraw_hatch_polygon(x_tri + 10, y_tri, 'blue', '+++')\n\ndraw_hatch_polygon(x_tri + 20, y_tri, 'forestgreen', '++')\n\n# Show the plot\nplt.show()"
      ]
    }
  ],
  "metadata": {
    "kernelspec": {
      "display_name": "Python 3",
      "language": "python",
      "name": "python3"
    },
    "language_info": {
      "codemirror_mode": {
        "name": "ipython",
        "version": 3
      },
      "file_extension": ".py",
      "mimetype": "text/x-python",
      "name": "python",
      "nbconvert_exporter": "python",
      "pygments_lexer": "ipython3",
      "version": "3.7.9"
    }
  },
  "nbformat": 4,
  "nbformat_minor": 0
}