{
  "cells": [
    {
      "cell_type": "code",
      "execution_count": null,
      "metadata": {
        "collapsed": false
      },
      "outputs": [],
      "source": [
        "%matplotlib inline"
      ]
    },
    {
      "cell_type": "markdown",
      "metadata": {},
      "source": [
        "\n# NCL_polyg_8_lbar.py\nThis script illustrates the following concepts:\n   - Drawing a scatter plot on a map\n   - Changing the marker color and size in a map plot\n   - Plotting station locations using markers\n   - Creating a custom color bar\n   - Adding text to a plot\n   - Generating dummy data using \"random_uniform\"\n   - Binning data\n\nSee following URLs to see the reproduced NCL plot & script:\n    - Original NCL script: https://www.ncl.ucar.edu/Applications/Scripts/polyg_8_lbar.ncl\n    - Original NCL plot: https://www.ncl.ucar.edu/Applications/Images/polyg_8_lbar_lg.png\n"
      ]
    },
    {
      "cell_type": "markdown",
      "metadata": {},
      "source": [
        "Import packages:\n\n"
      ]
    },
    {
      "cell_type": "code",
      "execution_count": null,
      "metadata": {
        "collapsed": false
      },
      "outputs": [],
      "source": [
        "import numpy as np\nimport cartopy.crs as ccrs\nimport cartopy.feature as cfeature\nimport matplotlib.pyplot as plt\nfrom matplotlib import colors, cm\n\nfrom geocat.viz import util as gvutil\nfrom geocat.viz import cmaps as gvcmap"
      ]
    },
    {
      "cell_type": "markdown",
      "metadata": {},
      "source": [
        "Generate dummy data\n\n"
      ]
    },
    {
      "cell_type": "code",
      "execution_count": null,
      "metadata": {
        "collapsed": false
      },
      "outputs": [],
      "source": [
        "npts = 100\nrandom = np.random.default_rng(seed=1)\n\n# Create random coordinates to position the markers\nlat = random.uniform(low=25, high=50, size=npts)\nlon = random.uniform(low=-125, high=-70, size=npts)\n\n# Create random data which the color will be based off of\nr = random.uniform(low=-1.2, high=35, size=npts)"
      ]
    },
    {
      "cell_type": "markdown",
      "metadata": {},
      "source": [
        "Specify bins and sizes and create custom mappable based on NCV_jet colormap\n\n"
      ]
    },
    {
      "cell_type": "code",
      "execution_count": null,
      "metadata": {
        "collapsed": false
      },
      "outputs": [],
      "source": [
        "bins = [0, 5, 10, 15, 20, 23, 26]\ncmap = gvcmap.NCV_jet\n\n# Create the boundaries for your data, this may be larger than bins to\n# accomodate colors for data outside of the smallest and largest bins\nboundaries = [-1.2, 0, 5, 10, 15, 20, 23, 26, 35]\nnorm = colors.BoundaryNorm(boundaries, cmap.N)\nmappable = cm.ScalarMappable(norm=norm, cmap=cmap)\n\n# Retreive the list of colors to use for the markers\nmarker_colors = mappable.to_rgba(boundaries)\n\n# Increasing sizes for the markers in each bin, by using numpy.geomspace the\n# size differences are more noticeable\nsizes = np.geomspace(10, 250, len(boundaries))"
      ]
    },
    {
      "cell_type": "markdown",
      "metadata": {},
      "source": [
        "Plot:\n\n"
      ]
    },
    {
      "cell_type": "code",
      "execution_count": null,
      "metadata": {
        "collapsed": false
      },
      "outputs": [],
      "source": [
        "plt.figure(figsize=(9, 6))\nprojection = ccrs.PlateCarree()\nax = plt.axes(projection=projection)\nax.set_extent([-125, -70, 25, 50], crs=projection)\n\n# Draw land\nax.add_feature(cfeature.LAND, color='silver', zorder=0)\nax.add_feature(cfeature.LAKES, color='white', zorder=0)\n\n# Use geocat.viz.util convenience function to set axes tick values\ngvutil.set_axes_limits_and_ticks(ax,\n                                 xticks=np.linspace(-120, -70, 6),\n                                 yticks=np.linspace(25, 50, 6))\n\n# Use geocat.viz.util convenience function to make latitude and longitude tick\n# labels\ngvutil.add_lat_lon_ticklabels(ax)\n\n# Use geocat.viz.util convenience function to add minor and major tick lines\ngvutil.add_major_minor_ticks(ax,\n                             x_minor_per_major=1,\n                             y_minor_per_major=1,\n                             labelsize=12)\n\n# Remove ticks on the top and right sides of the plot\nax.tick_params(axis='both', which='both', top=False, right=False)\n\n# Use geocat.viz.util convenience function to add titles\ngvutil.set_titles_and_labels(\n    ax,\n    maintitlefontsize=16,\n    maintitle=\n    \"Dummy station data colored and\\nsized according to range of values\")\n\n# Plot markers with values less than first bin value\nmasked_lon = np.where(r < bins[0], lon, np.nan)\nmasked_lat = np.where(r < bins[0], lat, np.nan)\nplt.scatter(masked_lon,\n            masked_lat,\n            s=sizes[0],\n            color=marker_colors[0],\n            zorder=1)\n\n# Plot all other markers but those in the last bin\nfor x in range(1, len(bins)):\n    masked_lon = np.where(bins[x - 1] <= r, lon, np.nan)\n    masked_lon = np.where(r < bins[x], masked_lon, np.nan)\n    masked_lat = np.where(bins[x - 1] <= r, lat, np.nan)\n    masked_lat = np.where(r < bins[x], masked_lat, np.nan)\n    plt.scatter(masked_lon,\n                masked_lat,\n                s=sizes[x],\n                color=marker_colors[x],\n                zorder=1)\n\n# Plot markers with values greater than or equal to last bin value\nmasked_lon = np.where(r >= bins[-1], lon, np.nan)\nmasked_lat = np.where(r >= bins[-1], lat, np.nan)\nplt.scatter(masked_lon,\n            masked_lat,\n            s=sizes[-1],\n            color=marker_colors[-1],\n            zorder=1)\n\n# Create colorbar\nplt.colorbar(mappable=mappable,\n             ax=ax,\n             orientation='horizontal',\n             drawedges=True,\n             format='%.2f',\n             ticks=bins)\n\nplt.show()"
      ]
    }
  ],
  "metadata": {
    "kernelspec": {
      "display_name": "Python 3",
      "language": "python",
      "name": "python3"
    },
    "language_info": {
      "codemirror_mode": {
        "name": "ipython",
        "version": 3
      },
      "file_extension": ".py",
      "mimetype": "text/x-python",
      "name": "python",
      "nbconvert_exporter": "python",
      "pygments_lexer": "ipython3",
      "version": "3.7.9"
    }
  },
  "nbformat": 4,
  "nbformat_minor": 0
}