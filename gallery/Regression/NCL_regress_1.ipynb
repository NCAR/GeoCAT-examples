{
  "cells": [
    {
      "cell_type": "code",
      "execution_count": null,
      "metadata": {
        "collapsed": false
      },
      "outputs": [],
      "source": [
        "%matplotlib inline"
      ]
    },
    {
      "cell_type": "markdown",
      "metadata": {},
      "source": [
        "\n# NCL_regress_1.py\nThis script illustrates the following concepts:\n   - Read tabular values from an ascii file\n   - Calculating the least squared regression for a one dimensional array\n   - Drawing a scatter plot with a regression line\n   - Changing the size and color of markers, thickness of line\n\nSee following URLs to see the reproduced NCL plot & script:\n    - Original NCL script: https://www.ncl.ucar.edu/Applications/Scripts/regress_1.ncl\n    - Original NCL plots: https://www.ncl.ucar.edu/Applications/Images/regress_1_lg.png\n"
      ]
    },
    {
      "cell_type": "markdown",
      "metadata": {},
      "source": [
        "Import packages\n\n"
      ]
    },
    {
      "cell_type": "code",
      "execution_count": null,
      "metadata": {
        "collapsed": false
      },
      "outputs": [],
      "source": [
        "import numpy as np\nimport matplotlib.pyplot as plt\n\nimport geocat.datafiles as gdf\nfrom geocat.viz import util as gvutil"
      ]
    },
    {
      "cell_type": "markdown",
      "metadata": {},
      "source": [
        "Read in data:\n\n"
      ]
    },
    {
      "cell_type": "code",
      "execution_count": null,
      "metadata": {
        "collapsed": false
      },
      "outputs": [],
      "source": [
        "# Open a ascii data file using numpy's loadtxt\n# Specify the delimiter from the file\n# Read in the data as a floats\nx, y = np.loadtxt(gdf.get(\"ascii_files/regress_1.txt\"),\n                  delimiter=',',\n                  unpack=True,\n                  dtype=float)"
      ]
    },
    {
      "cell_type": "markdown",
      "metadata": {},
      "source": [
        "Calculate regression:\n\n"
      ]
    },
    {
      "cell_type": "code",
      "execution_count": null,
      "metadata": {
        "collapsed": false
      },
      "outputs": [],
      "source": [
        "# Use numpy's polyfit to calculate a linear regression\n# This function outputs [a, b], where y = ax + b in the regression fit\n[a, b] = np.polyfit(x, y, 1)"
      ]
    },
    {
      "cell_type": "markdown",
      "metadata": {},
      "source": [
        "Transform the found regression model for plotting\n\n"
      ]
    },
    {
      "cell_type": "code",
      "execution_count": null,
      "metadata": {
        "collapsed": false
      },
      "outputs": [],
      "source": [
        "# Now that we have a y = ax + b, we can evaluate this model over a range,\n# which will give us points to plot\nx_regress = range(int(min(x)), int(max(x)))\ny_regress = a * x_regress + b"
      ]
    },
    {
      "cell_type": "markdown",
      "metadata": {},
      "source": [
        "Plot\n\n"
      ]
    },
    {
      "cell_type": "code",
      "execution_count": null,
      "metadata": {
        "collapsed": false
      },
      "outputs": [],
      "source": [
        "# Generate figure (set its size (width, height) in inches) and axes\nplt.figure(figsize=(6, 6))\nax = plt.gca()\n\n# Plot original data\n# Note that the s parameter sets the size of the markers in pts\nplt.scatter(x, y, color='red', s=4)\n\n# Plot regression\nplt.plot(x_regress, y_regress, color='black', linewidth=0.5)\n\n# specify X and Y axis limits\nplt.xlim([6000, 9000])\nplt.ylim([266, 274])\n\n# Use geocat.viz utility functions to add a main title\ngvutil.set_titles_and_labels(ax=ax, maintitle=\"Regression 1\")\n\n# Use geocat.viz.util convenience function to add minor and major tick lines\ngvutil.add_major_minor_ticks(ax,\n                             x_minor_per_major=5,\n                             y_minor_per_major=4,\n                             labelsize=12)\n\n# Use geocat.viz.util convenience function to set axes parameters\ngvutil.set_axes_limits_and_ticks(ax,\n                                 xlim=(6000, 9000),\n                                 xticks=np.arange(6000, 9001, 500),\n                                 ylim=(266, 274),\n                                 yticks=np.arange(266, 275, 2))\n\n# Show plot\nplt.tight_layout()\nplt.show()"
      ]
    }
  ],
  "metadata": {
    "kernelspec": {
      "display_name": "Python 3",
      "language": "python",
      "name": "python3"
    },
    "language_info": {
      "codemirror_mode": {
        "name": "ipython",
        "version": 3
      },
      "file_extension": ".py",
      "mimetype": "text/x-python",
      "name": "python",
      "nbconvert_exporter": "python",
      "pygments_lexer": "ipython3",
      "version": "3.7.9"
    }
  },
  "nbformat": 4,
  "nbformat_minor": 0
}