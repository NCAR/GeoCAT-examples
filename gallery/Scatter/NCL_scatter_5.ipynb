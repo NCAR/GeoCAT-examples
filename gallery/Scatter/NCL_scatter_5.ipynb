{
  "cells": [
    {
      "cell_type": "code",
      "execution_count": null,
      "metadata": {
        "collapsed": false
      },
      "outputs": [],
      "source": [
        "%matplotlib inline"
      ]
    },
    {
      "cell_type": "markdown",
      "metadata": {},
      "source": [
        "\n# NCL_scatter_5.py\nThis script illustrates the following concepts:\n   - Drawing a scatter plot with markers of different colors\n   - Generating dummy data using \"random.normal\"\n   - Manually creating a legend using markers and text\n   - Customizing the label locations in a legend\n   - Changing the orientation of a legend\n   - Drawing a legend outside an XY plot\n   - Changing the markers in an XY plot\n   - Changing the marker color in an XY plot\n   - Changing the marker size in an XY plot\n\n\nSee following URLs to see the reproduced NCL plot & script:\n    - Original NCL script: https://www.ncl.ucar.edu/Applications/Scripts/scatter_5.ncl\n    - Original NCL plot: https://www.ncl.ucar.edu/Applications/Images/scatter_5_lg.png\n"
      ]
    },
    {
      "cell_type": "markdown",
      "metadata": {},
      "source": [
        "Import packages:\n\n"
      ]
    },
    {
      "cell_type": "code",
      "execution_count": null,
      "metadata": {
        "collapsed": false
      },
      "outputs": [],
      "source": [
        "import numpy as np\nimport matplotlib.pyplot as plt\nfrom cycler import cycler\n\nfrom geocat.viz import util as gvutil"
      ]
    },
    {
      "cell_type": "markdown",
      "metadata": {},
      "source": [
        "Generate random data from a normal (Gaussian) distribution with a mean of 10 and standard deviation of 3\n\n"
      ]
    },
    {
      "cell_type": "code",
      "execution_count": null,
      "metadata": {
        "collapsed": false
      },
      "outputs": [],
      "source": [
        "npts = 300\nrandom = np.random.default_rng(seed=1)\ndata = random.normal(loc=10, scale=3, size=npts)"
      ]
    },
    {
      "cell_type": "markdown",
      "metadata": {},
      "source": [
        "Specify colors and markers\n\n"
      ]
    },
    {
      "cell_type": "code",
      "execution_count": null,
      "metadata": {
        "collapsed": false
      },
      "outputs": [],
      "source": [
        "colors = [\n    'darkgoldenrod', 'darkgreen', 'coral', 'cyan', 'firebrick', 'darkslateblue',\n    'limegreen', 'goldenrod'\n]\nmarkers = ['+', '*', 'o', 'x', 's', '^', 'v', 'D']\n\n# This line cycles which color is used to plot the markers\nplt.rcParams['axes.prop_cycle'] = cycler(color=colors)"
      ]
    },
    {
      "cell_type": "markdown",
      "metadata": {},
      "source": [
        "Plot\n\n"
      ]
    },
    {
      "cell_type": "code",
      "execution_count": null,
      "metadata": {
        "collapsed": false
      },
      "outputs": [],
      "source": [
        "fig = plt.figure(figsize=(8, 8))\n# Adjust the axes size to accommodate the legend at the bottom\nax = plt.axes([0.15, 0.2, 0.75, 0.70])\n\n# Divide data into 8 bins and plot\nnumBins = 8\nindices = np.arange(0, 300)\npartitions = np.linspace(0, 20, numBins + 1)\nlabel = \"{start:g}:{end:g}\"\nfor x in range(0, numBins):\n    bins = np.where(data > partitions[x], data, np.nan)\n    with np.errstate(\n            invalid='ignore'\n    ):  # Indeed not needed, just to get rid of warnings about numpy's NaN comparisons\n        bins = np.where(bins < partitions[x + 1], bins, np.nan)\n    indices = np.where(bins != np.nan, indices, np.nan)\n    plt.plot(indices,\n             bins,\n             marker=markers[x],\n             fillstyle='none',\n             linewidth=0,\n             label=label.format(start=partitions[x], end=partitions[x + 1]))\n\n# `ncol` being equal to the number of labels makes it appear horizontal\nlegend = ax.legend(bbox_to_anchor=(-0.075, -0.2),\n                   ncol=numBins,\n                   loc='lower left',\n                   columnspacing=0.5,\n                   frameon=False)\nfor txt in legend.get_texts():\n    txt.set_ha(\"center\")  # horizontal alignment of text item\n    txt.set_va(\"center\")  # vertical alignment of text item\n    # Move label text so it is centered under the marker\n    txt.set_x(-25)  # x-position\n    txt.set_y(-20)  # y-position\n\n# Use geocat.viz.util convenience function to set axes parameters\ngvutil.set_axes_limits_and_ticks(ax,\n                                 xlim=(0, 300),\n                                 ylim=(0, 21),\n                                 xticks=range(0, 301, 50),\n                                 yticks=range(0, 22, 3))\n\n# Use geocat.viz.util convenience function to add minor and major tick lines\ngvutil.add_major_minor_ticks(ax,\n                             x_minor_per_major=5,\n                             y_minor_per_major=3,\n                             labelsize=14)\n\n# Use geocat.viz.util convenience function to set titles and labels\ngvutil.set_titles_and_labels(ax, maintitle=\"Scatter plot with grouped markers\")\n\nplt.show()"
      ]
    }
  ],
  "metadata": {
    "kernelspec": {
      "display_name": "Python 3",
      "language": "python",
      "name": "python3"
    },
    "language_info": {
      "codemirror_mode": {
        "name": "ipython",
        "version": 3
      },
      "file_extension": ".py",
      "mimetype": "text/x-python",
      "name": "python",
      "nbconvert_exporter": "python",
      "pygments_lexer": "ipython3",
      "version": "3.7.9"
    }
  },
  "nbformat": 4,
  "nbformat_minor": 0
}