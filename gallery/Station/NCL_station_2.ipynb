{
  "cells": [
    {
      "cell_type": "code",
      "execution_count": null,
      "metadata": {
        "collapsed": false
      },
      "outputs": [],
      "source": [
        "%matplotlib inline"
      ]
    },
    {
      "cell_type": "markdown",
      "metadata": {},
      "source": [
        "\n# NCL_station_2.py\nThis script illustrates the following concepts:\n   - Drawing markers on a map indicating the locations of station data\n   - Generating dummy data using \"random_uniform\"\n   - Drawing markers of different sizes and colors on a map\n   - Drawing a custom legend outside of a map plot\n   - Attaching a custom colorbar to a plot\n\nSee following URLs to see the reproduced NCL plot & script:\n    - Original NCL script: https://www.ncl.ucar.edu/Applications/Scripts/station_2.ncl\n    - Original NCL plot: https://www.ncl.ucar.edu/Applications/Images/station_2_1_lg.png and https://www.ncl.ucar.edu/Applications/Images/station_2_2_lg.png\n"
      ]
    },
    {
      "cell_type": "markdown",
      "metadata": {},
      "source": [
        "## Import packages:\n\n"
      ]
    },
    {
      "cell_type": "code",
      "execution_count": null,
      "metadata": {
        "collapsed": false
      },
      "outputs": [],
      "source": [
        "import numpy as np\nimport matplotlib as mpl\nfrom matplotlib import pyplot as plt\nimport cartopy\nimport cartopy.crs as ccrs\n\nfrom geocat.viz import util as gvutil"
      ]
    },
    {
      "cell_type": "markdown",
      "metadata": {},
      "source": [
        "## Generate random data:\n\n"
      ]
    },
    {
      "cell_type": "code",
      "execution_count": null,
      "metadata": {
        "collapsed": false
      },
      "outputs": [],
      "source": [
        "# Set up random values\nnpts = 100\nnp.random.seed(20200127)\n\n# Lat between 25 N and 50 N, lon between 125 W and 70 W\nlat = np.random.uniform(25, 50, npts)\nlon = np.random.uniform(235, 290, npts) - 360\n\ndummy_data = np.random.uniform(-1.2, 35, npts)"
      ]
    },
    {
      "cell_type": "markdown",
      "metadata": {},
      "source": [
        "## Define colormap for plotting:\n\n"
      ]
    },
    {
      "cell_type": "code",
      "execution_count": null,
      "metadata": {
        "collapsed": false
      },
      "outputs": [],
      "source": [
        "# Set up colormap:\n# Need to define boundaries for each color map as well as colors for each bin\n\n# Note that len(colors) = len(bin_bounds) + 1\n# color[0] => dummy_data < bin_bounds[0]\n# color[-1] => dummy_data => bin_bounds[-1]\n# color[j] => bin_bounds[j-1] <= dummy_data < bin_bounds[j]\n\nbin_bounds = [0., 5., 10., 15., 20., 23., 26.]\ncolors = [\n    'purple', 'darkblue', 'blue', 'lightblue', 'yellow', 'orange', 'red', 'pink'\n]\n\nnbins = len(colors)  # One bin for each color\n\n# Define colormap for plotting based on these colors\ncmap = mpl.colors.ListedColormap(colors)"
      ]
    },
    {
      "cell_type": "markdown",
      "metadata": {},
      "source": [
        "## Utility Function: Make Shared Plot:\n\n"
      ]
    },
    {
      "cell_type": "code",
      "execution_count": null,
      "metadata": {
        "collapsed": false
      },
      "outputs": [],
      "source": [
        "# Define a utility function to create the basic contour plot that will be used twice to create two slightly\n# different plots, both of which rely on same base figure\ndef make_shared_plot(title):\n\n    # Generate figure (set its size (width, height) in inches) and axes using Cartopy projection\n    plt.figure(figsize=(10, 5.5))\n    ax = plt.axes(projection=ccrs.PlateCarree())\n\n    # Use geocat.viz.util convenience function to add minor and major tick lines\n    gvutil.add_major_minor_ticks(ax,\n                                 x_minor_per_major=4,\n                                 y_minor_per_major=5,\n                                 labelsize=14)\n\n    # Use geocat.viz.util convenience function to make plots look like NCL plots by using latitude, longitude tick labels\n    gvutil.add_lat_lon_ticklabels(ax)\n\n    # Use geocat.viz.util convenience function to set axes limits & tick values without calling several matplotlib functions\n    gvutil.set_axes_limits_and_ticks(ax,\n                                     xlim=(-125, -70),\n                                     ylim=(25, 50),\n                                     xticks=range(-120, -75, 20),\n                                     yticks=range(30, 51, 10))\n\n    # Turn on continent shading\n    ax.add_feature(cartopy.feature.LAND,\n                   edgecolor='lightgray',\n                   facecolor='lightgray',\n                   zorder=0)\n    ax.add_feature(cartopy.feature.LAKES,\n                   edgecolor='white',\n                   facecolor='white',\n                   zorder=0)\n\n    # Scatter-plot the location data on the map\n    scatter = plt.scatter(lon, lat, c=dummy_data, cmap=cmap, zorder=1)\n\n    plt.title(title, fontsize=16, y=1.04)\n\n    return scatter, ax"
      ]
    },
    {
      "cell_type": "markdown",
      "metadata": {},
      "source": [
        "## Plot 1 (with a legend outside, i.e. station_2_1.png)\n\n"
      ]
    },
    {
      "cell_type": "code",
      "execution_count": null,
      "metadata": {
        "collapsed": false
      },
      "outputs": [],
      "source": [
        "# Draw the base plot\nscatter1, ax = make_shared_plot(\n    \"Dummy station data colored according to range of values\")\n\n# Add a legend to the bottom outside of the plot\n# Given how we generated the plot, adding a legend is a little kludgy. Basically, we draw a second plot where no data\n# is in frame but the legend for that plot is drawn where we want it\nlax = plt.axes((0, 0, 1, 0.1), frameon=False)\n\n# Plotting window is [0,1] x [0,1]\nplt.xlim(0, 1)\nplt.ylim(0, 1)\nplt.axis('off')\n\nfor n, color in enumerate(colors):\n    if n == 0:\n        label = f'x < {bin_bounds[0]:.0f}'\n    elif n == nbins - 1:\n        label = f'x >= {bin_bounds[-1]:.0f}'\n    else:\n        label = f'{bin_bounds[n-1]:.0f} <= x < {bin_bounds[n]:.0f}'\n\n    # Plotting data at (-10, -10) which is not in the plotting window\n    scatter = plt.scatter(-10, -10, color=color, label=label)\n\n# The legend for this second plot is what we are actually interested in\n# We want large font, no frame around the legend, and 4 columns of labels\nlax.legend(loc='center', fontsize='large', frameon=False, ncol=4)\n\nplt.show()"
      ]
    },
    {
      "cell_type": "markdown",
      "metadata": {},
      "source": [
        "## Plot 2 (with a colorbar, i.e. station_2_2.png)\n\n"
      ]
    },
    {
      "cell_type": "code",
      "execution_count": null,
      "metadata": {
        "collapsed": false
      },
      "outputs": [],
      "source": [
        "# Draw the base plot\nscatter2 = make_shared_plot(\n    \"Dummy station data colored according to range of values\")\n\n# Add a horizontal colorbar\ncax = plt.axes((0.225, 0.05, 0.55, 0.025))\nnorm = mpl.colors.BoundaryNorm([-1.2] + bin_bounds + [35], len(colors))\nmpl.colorbar.ColorbarBase(cax,\n                          cmap=cmap,\n                          orientation='horizontal',\n                          norm=norm,\n                          boundaries=[-1.2] + bin_bounds + [35],\n                          ticks=bin_bounds)\n\n# Show the plot\nplt.show()"
      ]
    }
  ],
  "metadata": {
    "kernelspec": {
      "display_name": "Python 3",
      "language": "python",
      "name": "python3"
    },
    "language_info": {
      "codemirror_mode": {
        "name": "ipython",
        "version": 3
      },
      "file_extension": ".py",
      "mimetype": "text/x-python",
      "name": "python",
      "nbconvert_exporter": "python",
      "pygments_lexer": "ipython3",
      "version": "3.7.9"
    }
  },
  "nbformat": 4,
  "nbformat_minor": 0
}