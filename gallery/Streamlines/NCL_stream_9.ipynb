{
  "cells": [
    {
      "cell_type": "code",
      "execution_count": null,
      "metadata": {
        "collapsed": false
      },
      "outputs": [],
      "source": [
        "%matplotlib inline"
      ]
    },
    {
      "cell_type": "markdown",
      "metadata": {},
      "source": [
        "\n# NCL_stream_9.py\nThis script illustrates the following concepts:\n   - Defining your own color map\n   - Applying a color map to a streamplot\n   - Using opacity to emphasize or subdue overlain features\n\nSee following URLs to see the reproduced NCL plot & script:\n    - Original NCL script: https://www.ncl.ucar.edu/Applications/Scripts/stream_9.ncl\n    - Original NCL plot: https://www.ncl.ucar.edu/Applications/Images/stream_9_1_lg.png\n"
      ]
    },
    {
      "cell_type": "markdown",
      "metadata": {},
      "source": [
        "Import packages:\n\n"
      ]
    },
    {
      "cell_type": "code",
      "execution_count": null,
      "metadata": {
        "collapsed": false
      },
      "outputs": [],
      "source": [
        "import numpy as np\nimport xarray as xr\nimport cartopy.crs as ccrs\nimport cartopy.feature as cfeature\nimport matplotlib.cm as cm\nimport matplotlib.pyplot as plt\nimport matplotlib.colors as colors\nimport matplotlib.colors as mcolors\n\nimport geocat.datafiles as gdf\nfrom geocat.viz import util as gvutil"
      ]
    },
    {
      "cell_type": "markdown",
      "metadata": {},
      "source": [
        "Make color map\n\n"
      ]
    },
    {
      "cell_type": "code",
      "execution_count": null,
      "metadata": {
        "collapsed": false
      },
      "outputs": [],
      "source": [
        "colormap = colors.ListedColormap([\n    'darkblue', 'mediumblue', 'blue', 'cornflowerblue', 'skyblue', 'aquamarine',\n    'lime', 'greenyellow', 'gold', 'orange', 'orangered', 'red', 'maroon'\n])\n\ncolorbounds = np.arange(0, 56, 4)\n\nnorm = mcolors.BoundaryNorm(colorbounds, colormap.N)"
      ]
    },
    {
      "cell_type": "markdown",
      "metadata": {},
      "source": [
        "Read in data:\n\n"
      ]
    },
    {
      "cell_type": "code",
      "execution_count": null,
      "metadata": {
        "collapsed": false
      },
      "outputs": [],
      "source": [
        "# Open a netCDF data file using xarray default engine and load the data into xarrays\nds1 = xr.open_dataset(gdf.get('netcdf_files/U500storm.cdf'))\nds2 = xr.open_dataset(gdf.get('netcdf_files/V500storm.cdf'))"
      ]
    },
    {
      "cell_type": "markdown",
      "metadata": {},
      "source": [
        "Plot:\n\n"
      ]
    },
    {
      "cell_type": "code",
      "execution_count": null,
      "metadata": {
        "collapsed": false
      },
      "outputs": [],
      "source": [
        "# Set figure\nfig = plt.figure(figsize=(10, 10))\n\n# Create first subplot on figure for map\nax = fig.add_axes([.1, .2, .8, .6],\n                  projection=ccrs.LambertAzimuthalEqualArea(\n                      central_longitude=-100, central_latitude=40),\n                  frameon=False,\n                  aspect='auto')\n\n# Set axis projection\nax.set_extent([-128, -58, 18, 65], crs=ccrs.PlateCarree())\n\n# Add ocean, lakes, land features, and coastlines to map\nax.add_feature(cfeature.OCEAN, color='lightblue')\nax.add_feature(cfeature.LAKES, color='white', edgecolor='black')\nax.add_feature(cfeature.LAND, color='tan')\nax.coastlines()\n\n# Extract streamline data from initial timestep\nU = ds1.u.isel(timestep=0)\nV = ds2.v.isel(timestep=0)\n\n# Calculate magnitude data\nmagnitude = np.sqrt(np.square(U.data) + np.square(V.data))\n\n# Plot streamline data\nstreams = ax.streamplot(U.lon,\n                        U.lat,\n                        U.data,\n                        V.data,\n                        transform=ccrs.PlateCarree(),\n                        arrowstyle='->',\n                        linewidth=1,\n                        density=2.0,\n                        color=magnitude,\n                        cmap=colormap)\n\n# Set streamlines and arrows to partially transparent\nstreams.lines.set_alpha(.5)\nstreams.arrows.set_alpha(.5)\n\n# Create second subplot on figure for colorbar\nax2 = fig.add_axes([.1, .1, .8, .05])\n\n# Set title of plot\n# Make title font bold using r\"$\\bf{_______}$\" formatting\ngvutil.set_titles_and_labels(ax,\n                             maintitle=r\"$\\bf{Assigning}$\" + \" \" +\n                             r\"$\\bf{color}$\" + \" \" + r\"$\\bf{palette}$\" + \" \" +\n                             r\"$\\bf{to}$\" + \" \" + r\"$\\bf{streamlines}$\",\n                             maintitlefontsize=25)\n\n# Plot colorbar on subplot\ncb = fig.colorbar(cm.ScalarMappable(cmap=colormap, norm=norm),\n                  cax=ax2,\n                  boundaries=colorbounds,\n                  ticks=np.arange(4, 52, 4),\n                  spacing='uniform',\n                  orientation='horizontal')\n\n# Change size of colorbar tick font\nax2.tick_params(labelsize=20)\n\nplt.show()"
      ]
    }
  ],
  "metadata": {
    "kernelspec": {
      "display_name": "Python 3",
      "language": "python",
      "name": "python3"
    },
    "language_info": {
      "codemirror_mode": {
        "name": "ipython",
        "version": 3
      },
      "file_extension": ".py",
      "mimetype": "text/x-python",
      "name": "python",
      "nbconvert_exporter": "python",
      "pygments_lexer": "ipython3",
      "version": "3.7.9"
    }
  },
  "nbformat": 4,
  "nbformat_minor": 0
}