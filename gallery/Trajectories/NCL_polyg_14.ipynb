{
  "cells": [
    {
      "cell_type": "code",
      "execution_count": null,
      "metadata": {
        "collapsed": false
      },
      "outputs": [],
      "source": [
        "%matplotlib inline"
      ]
    },
    {
      "cell_type": "markdown",
      "metadata": {},
      "source": [
        "\n# NCL_polyg_14.py\nThis script illustrates the following concepts:\n    - Drawing polylines and markers using great circle paths\n    - Using geographiclib to calculate a great circle path\n    - Attaching polylines and markers to a map plot\n    \nSee following URLs to see the reproduced NCL plot & script:\n    - Original NCL script: https://www.ncl.ucar.edu/Applications/Scripts/polyg_14.ncl\n    - Original NCL plot: https://www.ncl.ucar.edu/Applications/Images/polyg_14_1_lg.png https://www.ncl.ucar.edu/Applications/Images/polyg_14_2_lg.png\n                         \n"
      ]
    },
    {
      "cell_type": "code",
      "execution_count": null,
      "metadata": {
        "collapsed": false
      },
      "outputs": [],
      "source": [
        "# Import packages:\nimport numpy as np\nimport cartopy.crs as ccrs\nimport matplotlib.pyplot as plt\nimport cartopy.feature as cfeature\nfrom geographiclib.geodesic import Geodesic\nfrom cartopy.mpl.gridliner import LongitudeFormatter, LatitudeFormatter\n\nfrom geocat.viz import util as gvutil"
      ]
    },
    {
      "cell_type": "markdown",
      "metadata": {},
      "source": [
        "Plot\n\n"
      ]
    },
    {
      "cell_type": "code",
      "execution_count": null,
      "metadata": {
        "collapsed": false
      },
      "outputs": [],
      "source": [
        "def Plot(color, ext, xext, yext, npts, title, subt, style, pt):\n    \"\"\"\n    Helper function to create two similar plots where color, extent, title, \n    line style, and marker style can all be customized on the same style\n    map projection.\n    \n    Args:\n        \n        color (:class: 'str'): \n            color for line on map in format 'color'\n        ext (:class: 'list'):\n            extent of the projection view in format [minlon, maxlon, minlat, maxlat]\n        xext (:class: 'list'): \n            start and stop points for curve in format [startlon, stoplon]\n        yext (:class: 'list'): \n            start and stop points for curve in format [startlat, stoplat]\n        title (:class: 'str'): \n            title of graph in format \"Title\"\n        style (:class: 'str'): \n            line style in format 'style'\n        pt (:class: 'str'): \n            marker type in format 'type'\n    \n    \"\"\"\n    plt.figure(figsize=(8, 8))\n    ax = plt.axes(projection=ccrs.PlateCarree())\n\n    ax.set_extent(ext, ccrs.PlateCarree())\n    ax.add_feature(cfeature.LAND, color=\"lightgrey\")\n\n    # This gets geodesic between the two points\n    # WGS84 ellipsoid is used\n    # yext and xext refer to the start and stop points for the curve\n    # [0] being start, [1] being stop\n    gl = Geodesic.WGS84.InverseLine(yext[0], xext[0], yext[1], xext[1])\n    npoints = npts\n\n    # Compute points on the geodesic, and plot them\n    # gl.s13 is the total length of the geodesic\n    # the points are equally spaced by 'true distance', but visually\n    # there is a slight distortion due to curvature/projection style\n    lons = []\n    lats = []\n    for ea in np.linspace(0, gl.s13, npoints):\n        g = gl.Position(ea, Geodesic.STANDARD | Geodesic.LONG_UNROLL)\n        lon2 = g[\"lon2\"]\n        lat2 = g[\"lat2\"]\n        lons.append(lon2)\n        lats.append(lat2)\n\n    plt.plot(lons, lats, style, color=color, transform=ccrs.Geodetic())\n    ax.plot(lons, lats, pt, transform=ccrs.PlateCarree())\n\n    plt.suptitle(title, y=0.90, fontsize=16)\n\n    # Use geocat.viz.util convenience function to set axes parameters without calling several matplotlib functions\n    # Set axes limits, and tick values\n    gvutil.set_axes_limits_and_ticks(\n        ax,\n        xlim=(-125, -60),\n        ylim=(15, 65),\n        xticks=np.linspace(-180, 180, 13),\n        yticks=np.linspace(0, 80, 5),\n    )\n\n    # Use geocat.viz.util convenience function to make plots look like NCL plots by using latitude, longitude tick labels\n    gvutil.add_lat_lon_ticklabels(ax)\n\n    # Remove the degree symbol from tick labels\n    ax.yaxis.set_major_formatter(LatitudeFormatter(degree_symbol=\"\"))\n    ax.xaxis.set_major_formatter(LongitudeFormatter(degree_symbol=\"\"))\n\n    # Use geocat.viz.util convenience function to add minor and major tick lines\n    gvutil.add_major_minor_ticks(ax, labelsize=12)\n\n    # Use geocat.viz.util convenience function to set titles and labels without calling several matplotlib functions\n    gvutil.set_titles_and_labels(ax,\n                                 maintitle=subt,\n                                 maintitlefontsize=12,\n                                 xlabel=\"\",\n                                 ylabel=\"\")\n    plt.show()\n\n\n# plot first color map\nPlot(\n    \"blue\",\n    [-125, -60, 15, 65],\n    [-120, -64],\n    [20, 60],\n    10,\n    \"1st method: Two Points and Great Circle Path\",\n    \"Using matplotlib to draw curve\",\n    \"-\",\n    \"blue\",\n)\n\n# plot second color map\nPlot(\n    \"red\",\n    [-125, -60, 15, 65],\n    [-120, -64],\n    [20, 60],\n    10,\n    \"2nd method: Two Points and Great Circle Path\",\n    \"Geographiclib used to calculate great circle points\",\n    \"-\",\n    \"ko\",\n)"
      ]
    }
  ],
  "metadata": {
    "kernelspec": {
      "display_name": "Python 3",
      "language": "python",
      "name": "python3"
    },
    "language_info": {
      "codemirror_mode": {
        "name": "ipython",
        "version": 3
      },
      "file_extension": ".py",
      "mimetype": "text/x-python",
      "name": "python",
      "nbconvert_exporter": "python",
      "pygments_lexer": "ipython3",
      "version": "3.7.9"
    }
  },
  "nbformat": 4,
  "nbformat_minor": 0
}