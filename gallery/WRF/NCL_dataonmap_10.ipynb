{
  "cells": [
    {
      "cell_type": "code",
      "execution_count": null,
      "metadata": {
        "collapsed": false
      },
      "outputs": [],
      "source": [
        "%matplotlib inline"
      ]
    },
    {
      "cell_type": "markdown",
      "metadata": {},
      "source": [
        "\n# NCL_dataonmap_10.py\nThis script illustrates the following concepts:\n    - Plotting WRF data on native grid\n    - Plotting data using wrf python functions\n    - Overlaying continent outlines on a map\n    - Following best practices when choosing a colormap.\n      More information on colormap best practices can be found `here <https://geocat-examples.readthedocs.io/en/latest/gallery/Colors/CB_Temperature.html#sphx-glr-gallery-colors-cb-temperature-py>`_.\n    \nSee following URLs to see the reproduced NCL plot & script:\n    - Original NCL script: https://www.ncl.ucar.edu/Applications/Scripts/dataonmap_10.ncl\n    - Original NCL plot: https://www.ncl.ucar.edu/Applications/Images/dataonmap_10_1_lg.png\n"
      ]
    },
    {
      "cell_type": "markdown",
      "metadata": {},
      "source": [
        "Import packages\n\n"
      ]
    },
    {
      "cell_type": "code",
      "execution_count": null,
      "metadata": {
        "collapsed": false
      },
      "outputs": [],
      "source": [
        "from netCDF4 import Dataset\nimport numpy as np\nimport matplotlib.pyplot as plt\nimport matplotlib.ticker as mticker\nimport cartopy.crs as ccrs\nfrom wrf import (getvar, to_np, latlon_coords)\n\nimport geocat.datafiles as gdf\nfrom geocat.viz import util as gvutil"
      ]
    },
    {
      "cell_type": "markdown",
      "metadata": {},
      "source": [
        "Read in the data\n\n"
      ]
    },
    {
      "cell_type": "code",
      "execution_count": null,
      "metadata": {
        "collapsed": false
      },
      "outputs": [],
      "source": [
        "wrfin = Dataset(gdf.get(\"netcdf_files/wrfout_d01_2003-07-15_00_00_00\"), decode_times=True)\nq2 = getvar(wrfin, \"Q2\")"
      ]
    },
    {
      "cell_type": "markdown",
      "metadata": {},
      "source": [
        "Plot the data\n\n"
      ]
    },
    {
      "cell_type": "code",
      "execution_count": null,
      "metadata": {
        "collapsed": false
      },
      "outputs": [],
      "source": [
        "# Get the latitude and longitude coordinate. This is usually needed for plotting.\nlats, lons = latlon_coords(q2)\n\n# Generate figure (set its size (width, height) in inches)\nfig = plt.figure(figsize=(10,10))\n\n# Generate axes using Cartopy\nax = plt.axes(projection=ccrs.PlateCarree())\n\n# Add filled contours\nplt.contourf(to_np(lons),\n             to_np(lats),\n             q2,\n             levels=np.linspace(0.01125, 0.05, 32), cmap=\"magma\",\n             vmin=0,\n             vmax=0.05,\n             zorder=4)\n\n# Add a colorbar\ncbar = plt.colorbar(ax=ax,\n                    orientation=\"vertical\",\n                    ticks=np.arange(0.0125, 0.0476, 0.0025),\n                    drawedges=True,\n                    extendrect=True,\n                    shrink=0.65)\n                    \n\n# Format colorbar ticks and labels \ncbar.ax.tick_params(size=0, labelsize=10)\n\n# Draw gridlines\ngl = ax.gridlines(crs=ccrs.PlateCarree(),\n                  draw_labels=True,\n                  dms=False,\n                  x_inline=False,\n                  y_inline=False,\n                  linewidth=1,\n                  color=\"k\",\n                  alpha=0.25,\n                  zorder=4)\n\n\n# Manipulate latitude and longitude gridline numbers and spacing\ngl.top_labels = False\ngl.right_labels = False\ngl.xlocator = mticker.FixedLocator(np.arange(-105, -80, 5))\ngl.ylocator = mticker.FixedLocator(np.arange(18,35,2))\ngl.xlabel_style = {\"rotation\": 0, \"size\": 10}\ngl.ylabel_style = {\"rotation\": 0, \"size\": 10}\ngl.xlines = True\ngl.ylines = True\n\n# Add titles and labels to projection\ngvutil.set_titles_and_labels(ax,\n                             maintitle=\"WRF data on native grid\",\n                             lefttitle=\"QV at 2 M\",\n                             maintitlefontsize= 16,\n                             lefttitlefontsize=14)\n\n\nplt.show()"
      ]
    }
  ],
  "metadata": {
    "kernelspec": {
      "display_name": "Python 3",
      "language": "python",
      "name": "python3"
    },
    "language_info": {
      "codemirror_mode": {
        "name": "ipython",
        "version": 3
      },
      "file_extension": ".py",
      "mimetype": "text/x-python",
      "name": "python",
      "nbconvert_exporter": "python",
      "pygments_lexer": "ipython3",
      "version": "3.7.9"
    }
  },
  "nbformat": 4,
  "nbformat_minor": 0
}