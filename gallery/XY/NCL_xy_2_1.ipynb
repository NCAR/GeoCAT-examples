{
  "cells": [
    {
      "cell_type": "code",
      "execution_count": null,
      "metadata": {
        "collapsed": false
      },
      "outputs": [],
      "source": [
        "%matplotlib inline"
      ]
    },
    {
      "cell_type": "markdown",
      "metadata": {},
      "source": [
        "\n# NCL_xy_2_1.py\nThis script illustrates the following concepts:\n   - Drawing an XY plot with multiple curves\n   - Changing the line color for multiple curves in an XY plot\n   - Changing the line thickness for multiple curves in an XY plot\n   - Drawing XY plot curves with both lines and markers\n   - Changing the default markers in an XY plot\n   - Making all curves in an XY plot solid.\n\nSee following URLs to see the reproduced NCL plot & script:\n    - Original NCL script: https://www.ncl.ucar.edu/Applications/Scripts/xy_2.ncl\n    - Original NCL plot: https://www.ncl.ucar.edu/Applications/Images/xy_2_1_lg.png\n"
      ]
    },
    {
      "cell_type": "markdown",
      "metadata": {},
      "source": [
        "Import packages:\n\n"
      ]
    },
    {
      "cell_type": "code",
      "execution_count": null,
      "metadata": {
        "collapsed": false
      },
      "outputs": [],
      "source": [
        "import numpy as np\nimport xarray as xr\nimport matplotlib.pyplot as plt\n\nimport geocat.datafiles as gdf\nfrom geocat.viz import util as gvutil"
      ]
    },
    {
      "cell_type": "markdown",
      "metadata": {},
      "source": [
        "Read in data:\n\n"
      ]
    },
    {
      "cell_type": "code",
      "execution_count": null,
      "metadata": {
        "collapsed": false
      },
      "outputs": [],
      "source": [
        "# Open a netCDF data file using xarray default engine and load the data into xarrays\nds = xr.open_dataset(gdf.get(\"netcdf_files/uv300.nc\"))\nU = ds.U"
      ]
    },
    {
      "cell_type": "markdown",
      "metadata": {},
      "source": [
        "Plot:\n\n"
      ]
    },
    {
      "cell_type": "code",
      "execution_count": null,
      "metadata": {
        "collapsed": false
      },
      "outputs": [],
      "source": [
        "# Generate figure (set its size (width, height) in inches) and axes\nplt.figure(figsize=(7, 6.5))\nax = plt.gca()\n\n# Plot slices of data\nU.isel(time=0).sel(lon=82, method='nearest').plot(x=\"lat\",\n                                                  marker='',\n                                                  color='#C0C2EA',\n                                                  linewidth=1.1)\nU.isel(time=0).sel(lon=-69, method='nearest').plot(x=\"lat\",\n                                                   marker='',\n                                                   color='#E28D90',\n                                                   linewidth=1.1,\n                                                   linestyle='--',\n                                                   dashes=[6.5, 3.7])\n\n# Use geocat.viz.util convenience function to add minor and major tick lines\ngvutil.add_major_minor_ticks(ax,\n                             x_minor_per_major=3,\n                             y_minor_per_major=5,\n                             labelsize=16)\n\n# Use geocat.viz.util convenience function to set axes parameters without calling several matplotlib functions\n# Set axes limits, tick values, and tick labels to show latitude & longitude (i.e. North (N) - South (S))\ngvutil.set_axes_limits_and_ticks(\n    ax,\n    xlim=(-90, 90),\n    ylim=(-20, 50),\n    xticks=np.linspace(-90, 90, 7),\n    yticks=np.linspace(-20, 50, 8),\n    xticklabels=['90S', '60S', '30S', '0', '30N', '60N', '90N'])\n\n# Use geocat.viz.util convenience function to set titles and labels without calling several matplotlib functions\ngvutil.set_titles_and_labels(ax,\n                             maintitle=\"Two Curve XY Plot\",\n                             xlabel=\"\",\n                             ylabel=\"Zonal Wind\")\n\n# Show the plot\nplt.tight_layout()\nplt.show()"
      ]
    }
  ],
  "metadata": {
    "kernelspec": {
      "display_name": "Python 3",
      "language": "python",
      "name": "python3"
    },
    "language_info": {
      "codemirror_mode": {
        "name": "ipython",
        "version": 3
      },
      "file_extension": ".py",
      "mimetype": "text/x-python",
      "name": "python",
      "nbconvert_exporter": "python",
      "pygments_lexer": "ipython3",
      "version": "3.7.9"
    }
  },
  "nbformat": 4,
  "nbformat_minor": 0
}